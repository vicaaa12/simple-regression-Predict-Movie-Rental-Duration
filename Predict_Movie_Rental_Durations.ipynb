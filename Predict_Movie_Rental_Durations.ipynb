{
  "cells": [
    {
      "cell_type": "markdown",
      "metadata": {
        "id": "view-in-github",
        "colab_type": "text"
      },
      "source": [
        "<a href=\"https://colab.research.google.com/github/vicaaa12/simple-regression-Predict-Movie-Rental-Duration/blob/main/Predict_Movie_Rental_Durations.ipynb\" target=\"_parent\"><img src=\"https://colab.research.google.com/assets/colab-badge.svg\" alt=\"Open In Colab\"/></a>"
      ]
    },
    {
      "source": [
        "\n",
        "A DVD rental company needs your help! They want to figure out how many days a customer will rent a DVD for based on some features and has approached you for help. They want you to try out some regression models which will help predict the number of days a customer will rent a DVD for. The company wants a model which yeilds a MSE of 3 or less on a test set. The model you make will help the company become more efficient inventory planning.\n",
        "\n",
        "The data they provided is in the csv file `rental_info.csv`. It has the following features:\n",
        "- `\"rental_date\"`: The date (and time) the customer rents the DVD.\n",
        "- `\"return_date\"`: The date (and time) the customer returns the DVD.\n",
        "- `\"amount\"`: The amount paid by the customer for renting the DVD.\n",
        "- `\"amount_2\"`: The square of `\"amount\"`.\n",
        "- `\"rental_rate\"`: The rate at which the DVD is rented for.\n",
        "- `\"rental_rate_2\"`: The square of `\"rental_rate\"`.\n",
        "- `\"release_year\"`: The year the movie being rented was released.\n",
        "- `\"length\"`: Lenght of the movie being rented, in minuites.\n",
        "- `\"length_2\"`: The square of `\"length\"`.\n",
        "- `\"replacement_cost\"`: The amount it will cost the company to replace the DVD.\n",
        "- `\"special_features\"`: Any special features, for example trailers/deleted scenes that the DVD also has.\n",
        "- `\"NC-17\"`, `\"PG\"`, `\"PG-13\"`, `\"R\"`: These columns are dummy variables of the rating of the movie. It takes the value 1 if the move is rated as the column name and 0 otherwise. For your convinience, the reference dummy has already been dropped."
      ],
      "metadata": {
        "id": "b4ae5707-109f-4cd6-8168-88cac0179d6b"
      },
      "id": "b4ae5707-109f-4cd6-8168-88cac0179d6b",
      "cell_type": "markdown"
    },
    {
      "cell_type": "markdown",
      "source": [
        "## Importing necessary libraries"
      ],
      "metadata": {
        "id": "drTBUrSnmGp1"
      },
      "id": "drTBUrSnmGp1"
    },
    {
      "cell_type": "code",
      "source": [
        "# Libraries to help with reading and manipulating data\n",
        "import numpy as np\n",
        "import pandas as pd\n",
        "\n",
        "# Libraries to help with data visualization\n",
        "import matplotlib.pyplot as plt\n",
        "import seaborn as sns\n",
        "\n",
        "sns.set()\n",
        "\n",
        "# Removes the limit for the number of displayed columns\n",
        "pd.set_option(\"display.max_columns\", None)\n",
        "# Sets the limit for the number of displayed rows\n",
        "pd.set_option(\"display.max_rows\", 200)\n",
        "\n",
        "# to split the data into train and test\n",
        "from sklearn.model_selection import train_test_split\n",
        "\n",
        "# to build regression_model\n",
        "from sklearn.linear_model import LinearRegression\n",
        "from sklearn.tree import DecisionTreeRegressor\n",
        "from sklearn.ensemble import RandomForestRegressor\n",
        "from sklearn.linear_model import Lasso\n",
        "# to tune the model\n",
        "from sklearn.model_selection import RandomizedSearchCV\n",
        "\n",
        "# to check model performance\n",
        "from sklearn.metrics import mean_absolute_error, mean_squared_error, r2_score"
      ],
      "metadata": {
        "id": "0uhkwwFDmKeV"
      },
      "id": "0uhkwwFDmKeV",
      "execution_count": 1,
      "outputs": []
    },
    {
      "cell_type": "code",
      "source": [
        "from google.colab import drive\n",
        "drive.mount('/content/drive')"
      ],
      "metadata": {
        "colab": {
          "base_uri": "https://localhost:8080/"
        },
        "id": "Q1jJCvDYmaUi",
        "outputId": "6a4ff313-d8a5-4906-814f-89dc9dcef90c"
      },
      "id": "Q1jJCvDYmaUi",
      "execution_count": 2,
      "outputs": [
        {
          "output_type": "stream",
          "name": "stdout",
          "text": [
            "Mounted at /content/drive\n"
          ]
        }
      ]
    },
    {
      "cell_type": "code",
      "source": [
        "path = '/content/drive/MyDrive/python/datacampprojects/moviedurationprediction/rental_info.csv'"
      ],
      "metadata": {
        "id": "f42_OevinP6P"
      },
      "id": "f42_OevinP6P",
      "execution_count": 3,
      "outputs": []
    },
    {
      "cell_type": "code",
      "source": [
        "df = pd.read_csv(path)"
      ],
      "metadata": {
        "id": "oet_ZwuCnZpa"
      },
      "id": "oet_ZwuCnZpa",
      "execution_count": 4,
      "outputs": []
    },
    {
      "cell_type": "code",
      "source": [
        "df.shape"
      ],
      "metadata": {
        "colab": {
          "base_uri": "https://localhost:8080/"
        },
        "id": "wbNJA6Q7njIU",
        "outputId": "bcbfb3bc-5060-4b35-e91f-242ccbccb6be"
      },
      "id": "wbNJA6Q7njIU",
      "execution_count": 5,
      "outputs": [
        {
          "output_type": "execute_result",
          "data": {
            "text/plain": [
              "(15861, 15)"
            ]
          },
          "metadata": {},
          "execution_count": 5
        }
      ]
    },
    {
      "cell_type": "markdown",
      "source": [
        "There are 15861 rows and 15 columns"
      ],
      "metadata": {
        "id": "kYlo2ARcnq9o"
      },
      "id": "kYlo2ARcnq9o"
    },
    {
      "cell_type": "code",
      "source": [
        "df.head()"
      ],
      "metadata": {
        "colab": {
          "base_uri": "https://localhost:8080/",
          "height": 313
        },
        "id": "bU5SMopvnw8w",
        "outputId": "eb1e63e8-3e75-4d1f-8be5-9d28409d68f3"
      },
      "id": "bU5SMopvnw8w",
      "execution_count": 6,
      "outputs": [
        {
          "output_type": "execute_result",
          "data": {
            "text/plain": [
              "                 rental_date                return_date  amount  release_year  \\\n",
              "0  2005-05-25 02:54:33+00:00  2005-05-28 23:40:33+00:00    2.99        2005.0   \n",
              "1  2005-06-15 23:19:16+00:00  2005-06-18 19:24:16+00:00    2.99        2005.0   \n",
              "2  2005-07-10 04:27:45+00:00  2005-07-17 10:11:45+00:00    2.99        2005.0   \n",
              "3  2005-07-31 12:06:41+00:00  2005-08-02 14:30:41+00:00    2.99        2005.0   \n",
              "4  2005-08-19 12:30:04+00:00  2005-08-23 13:35:04+00:00    2.99        2005.0   \n",
              "\n",
              "   rental_rate  length  replacement_cost                special_features  \\\n",
              "0         2.99   126.0             16.99  {Trailers,\"Behind the Scenes\"}   \n",
              "1         2.99   126.0             16.99  {Trailers,\"Behind the Scenes\"}   \n",
              "2         2.99   126.0             16.99  {Trailers,\"Behind the Scenes\"}   \n",
              "3         2.99   126.0             16.99  {Trailers,\"Behind the Scenes\"}   \n",
              "4         2.99   126.0             16.99  {Trailers,\"Behind the Scenes\"}   \n",
              "\n",
              "   NC-17  PG  PG-13  R  amount_2  length_2  rental_rate_2  \n",
              "0      0   0      0  1    8.9401   15876.0         8.9401  \n",
              "1      0   0      0  1    8.9401   15876.0         8.9401  \n",
              "2      0   0      0  1    8.9401   15876.0         8.9401  \n",
              "3      0   0      0  1    8.9401   15876.0         8.9401  \n",
              "4      0   0      0  1    8.9401   15876.0         8.9401  "
            ],
            "text/html": [
              "\n",
              "  <div id=\"df-77e996f5-ba40-49a2-a473-bd352274bf65\" class=\"colab-df-container\">\n",
              "    <div>\n",
              "<style scoped>\n",
              "    .dataframe tbody tr th:only-of-type {\n",
              "        vertical-align: middle;\n",
              "    }\n",
              "\n",
              "    .dataframe tbody tr th {\n",
              "        vertical-align: top;\n",
              "    }\n",
              "\n",
              "    .dataframe thead th {\n",
              "        text-align: right;\n",
              "    }\n",
              "</style>\n",
              "<table border=\"1\" class=\"dataframe\">\n",
              "  <thead>\n",
              "    <tr style=\"text-align: right;\">\n",
              "      <th></th>\n",
              "      <th>rental_date</th>\n",
              "      <th>return_date</th>\n",
              "      <th>amount</th>\n",
              "      <th>release_year</th>\n",
              "      <th>rental_rate</th>\n",
              "      <th>length</th>\n",
              "      <th>replacement_cost</th>\n",
              "      <th>special_features</th>\n",
              "      <th>NC-17</th>\n",
              "      <th>PG</th>\n",
              "      <th>PG-13</th>\n",
              "      <th>R</th>\n",
              "      <th>amount_2</th>\n",
              "      <th>length_2</th>\n",
              "      <th>rental_rate_2</th>\n",
              "    </tr>\n",
              "  </thead>\n",
              "  <tbody>\n",
              "    <tr>\n",
              "      <th>0</th>\n",
              "      <td>2005-05-25 02:54:33+00:00</td>\n",
              "      <td>2005-05-28 23:40:33+00:00</td>\n",
              "      <td>2.99</td>\n",
              "      <td>2005.0</td>\n",
              "      <td>2.99</td>\n",
              "      <td>126.0</td>\n",
              "      <td>16.99</td>\n",
              "      <td>{Trailers,\"Behind the Scenes\"}</td>\n",
              "      <td>0</td>\n",
              "      <td>0</td>\n",
              "      <td>0</td>\n",
              "      <td>1</td>\n",
              "      <td>8.9401</td>\n",
              "      <td>15876.0</td>\n",
              "      <td>8.9401</td>\n",
              "    </tr>\n",
              "    <tr>\n",
              "      <th>1</th>\n",
              "      <td>2005-06-15 23:19:16+00:00</td>\n",
              "      <td>2005-06-18 19:24:16+00:00</td>\n",
              "      <td>2.99</td>\n",
              "      <td>2005.0</td>\n",
              "      <td>2.99</td>\n",
              "      <td>126.0</td>\n",
              "      <td>16.99</td>\n",
              "      <td>{Trailers,\"Behind the Scenes\"}</td>\n",
              "      <td>0</td>\n",
              "      <td>0</td>\n",
              "      <td>0</td>\n",
              "      <td>1</td>\n",
              "      <td>8.9401</td>\n",
              "      <td>15876.0</td>\n",
              "      <td>8.9401</td>\n",
              "    </tr>\n",
              "    <tr>\n",
              "      <th>2</th>\n",
              "      <td>2005-07-10 04:27:45+00:00</td>\n",
              "      <td>2005-07-17 10:11:45+00:00</td>\n",
              "      <td>2.99</td>\n",
              "      <td>2005.0</td>\n",
              "      <td>2.99</td>\n",
              "      <td>126.0</td>\n",
              "      <td>16.99</td>\n",
              "      <td>{Trailers,\"Behind the Scenes\"}</td>\n",
              "      <td>0</td>\n",
              "      <td>0</td>\n",
              "      <td>0</td>\n",
              "      <td>1</td>\n",
              "      <td>8.9401</td>\n",
              "      <td>15876.0</td>\n",
              "      <td>8.9401</td>\n",
              "    </tr>\n",
              "    <tr>\n",
              "      <th>3</th>\n",
              "      <td>2005-07-31 12:06:41+00:00</td>\n",
              "      <td>2005-08-02 14:30:41+00:00</td>\n",
              "      <td>2.99</td>\n",
              "      <td>2005.0</td>\n",
              "      <td>2.99</td>\n",
              "      <td>126.0</td>\n",
              "      <td>16.99</td>\n",
              "      <td>{Trailers,\"Behind the Scenes\"}</td>\n",
              "      <td>0</td>\n",
              "      <td>0</td>\n",
              "      <td>0</td>\n",
              "      <td>1</td>\n",
              "      <td>8.9401</td>\n",
              "      <td>15876.0</td>\n",
              "      <td>8.9401</td>\n",
              "    </tr>\n",
              "    <tr>\n",
              "      <th>4</th>\n",
              "      <td>2005-08-19 12:30:04+00:00</td>\n",
              "      <td>2005-08-23 13:35:04+00:00</td>\n",
              "      <td>2.99</td>\n",
              "      <td>2005.0</td>\n",
              "      <td>2.99</td>\n",
              "      <td>126.0</td>\n",
              "      <td>16.99</td>\n",
              "      <td>{Trailers,\"Behind the Scenes\"}</td>\n",
              "      <td>0</td>\n",
              "      <td>0</td>\n",
              "      <td>0</td>\n",
              "      <td>1</td>\n",
              "      <td>8.9401</td>\n",
              "      <td>15876.0</td>\n",
              "      <td>8.9401</td>\n",
              "    </tr>\n",
              "  </tbody>\n",
              "</table>\n",
              "</div>\n",
              "    <div class=\"colab-df-buttons\">\n",
              "\n",
              "  <div class=\"colab-df-container\">\n",
              "    <button class=\"colab-df-convert\" onclick=\"convertToInteractive('df-77e996f5-ba40-49a2-a473-bd352274bf65')\"\n",
              "            title=\"Convert this dataframe to an interactive table.\"\n",
              "            style=\"display:none;\">\n",
              "\n",
              "  <svg xmlns=\"http://www.w3.org/2000/svg\" height=\"24px\" viewBox=\"0 -960 960 960\">\n",
              "    <path d=\"M120-120v-720h720v720H120Zm60-500h600v-160H180v160Zm220 220h160v-160H400v160Zm0 220h160v-160H400v160ZM180-400h160v-160H180v160Zm440 0h160v-160H620v160ZM180-180h160v-160H180v160Zm440 0h160v-160H620v160Z\"/>\n",
              "  </svg>\n",
              "    </button>\n",
              "\n",
              "  <style>\n",
              "    .colab-df-container {\n",
              "      display:flex;\n",
              "      gap: 12px;\n",
              "    }\n",
              "\n",
              "    .colab-df-convert {\n",
              "      background-color: #E8F0FE;\n",
              "      border: none;\n",
              "      border-radius: 50%;\n",
              "      cursor: pointer;\n",
              "      display: none;\n",
              "      fill: #1967D2;\n",
              "      height: 32px;\n",
              "      padding: 0 0 0 0;\n",
              "      width: 32px;\n",
              "    }\n",
              "\n",
              "    .colab-df-convert:hover {\n",
              "      background-color: #E2EBFA;\n",
              "      box-shadow: 0px 1px 2px rgba(60, 64, 67, 0.3), 0px 1px 3px 1px rgba(60, 64, 67, 0.15);\n",
              "      fill: #174EA6;\n",
              "    }\n",
              "\n",
              "    .colab-df-buttons div {\n",
              "      margin-bottom: 4px;\n",
              "    }\n",
              "\n",
              "    [theme=dark] .colab-df-convert {\n",
              "      background-color: #3B4455;\n",
              "      fill: #D2E3FC;\n",
              "    }\n",
              "\n",
              "    [theme=dark] .colab-df-convert:hover {\n",
              "      background-color: #434B5C;\n",
              "      box-shadow: 0px 1px 3px 1px rgba(0, 0, 0, 0.15);\n",
              "      filter: drop-shadow(0px 1px 2px rgba(0, 0, 0, 0.3));\n",
              "      fill: #FFFFFF;\n",
              "    }\n",
              "  </style>\n",
              "\n",
              "    <script>\n",
              "      const buttonEl =\n",
              "        document.querySelector('#df-77e996f5-ba40-49a2-a473-bd352274bf65 button.colab-df-convert');\n",
              "      buttonEl.style.display =\n",
              "        google.colab.kernel.accessAllowed ? 'block' : 'none';\n",
              "\n",
              "      async function convertToInteractive(key) {\n",
              "        const element = document.querySelector('#df-77e996f5-ba40-49a2-a473-bd352274bf65');\n",
              "        const dataTable =\n",
              "          await google.colab.kernel.invokeFunction('convertToInteractive',\n",
              "                                                    [key], {});\n",
              "        if (!dataTable) return;\n",
              "\n",
              "        const docLinkHtml = 'Like what you see? Visit the ' +\n",
              "          '<a target=\"_blank\" href=https://colab.research.google.com/notebooks/data_table.ipynb>data table notebook</a>'\n",
              "          + ' to learn more about interactive tables.';\n",
              "        element.innerHTML = '';\n",
              "        dataTable['output_type'] = 'display_data';\n",
              "        await google.colab.output.renderOutput(dataTable, element);\n",
              "        const docLink = document.createElement('div');\n",
              "        docLink.innerHTML = docLinkHtml;\n",
              "        element.appendChild(docLink);\n",
              "      }\n",
              "    </script>\n",
              "  </div>\n",
              "\n",
              "\n",
              "<div id=\"df-ed3d000a-3da6-4091-a764-012265e26975\">\n",
              "  <button class=\"colab-df-quickchart\" onclick=\"quickchart('df-ed3d000a-3da6-4091-a764-012265e26975')\"\n",
              "            title=\"Suggest charts\"\n",
              "            style=\"display:none;\">\n",
              "\n",
              "<svg xmlns=\"http://www.w3.org/2000/svg\" height=\"24px\"viewBox=\"0 0 24 24\"\n",
              "     width=\"24px\">\n",
              "    <g>\n",
              "        <path d=\"M19 3H5c-1.1 0-2 .9-2 2v14c0 1.1.9 2 2 2h14c1.1 0 2-.9 2-2V5c0-1.1-.9-2-2-2zM9 17H7v-7h2v7zm4 0h-2V7h2v10zm4 0h-2v-4h2v4z\"/>\n",
              "    </g>\n",
              "</svg>\n",
              "  </button>\n",
              "\n",
              "<style>\n",
              "  .colab-df-quickchart {\n",
              "      --bg-color: #E8F0FE;\n",
              "      --fill-color: #1967D2;\n",
              "      --hover-bg-color: #E2EBFA;\n",
              "      --hover-fill-color: #174EA6;\n",
              "      --disabled-fill-color: #AAA;\n",
              "      --disabled-bg-color: #DDD;\n",
              "  }\n",
              "\n",
              "  [theme=dark] .colab-df-quickchart {\n",
              "      --bg-color: #3B4455;\n",
              "      --fill-color: #D2E3FC;\n",
              "      --hover-bg-color: #434B5C;\n",
              "      --hover-fill-color: #FFFFFF;\n",
              "      --disabled-bg-color: #3B4455;\n",
              "      --disabled-fill-color: #666;\n",
              "  }\n",
              "\n",
              "  .colab-df-quickchart {\n",
              "    background-color: var(--bg-color);\n",
              "    border: none;\n",
              "    border-radius: 50%;\n",
              "    cursor: pointer;\n",
              "    display: none;\n",
              "    fill: var(--fill-color);\n",
              "    height: 32px;\n",
              "    padding: 0;\n",
              "    width: 32px;\n",
              "  }\n",
              "\n",
              "  .colab-df-quickchart:hover {\n",
              "    background-color: var(--hover-bg-color);\n",
              "    box-shadow: 0 1px 2px rgba(60, 64, 67, 0.3), 0 1px 3px 1px rgba(60, 64, 67, 0.15);\n",
              "    fill: var(--button-hover-fill-color);\n",
              "  }\n",
              "\n",
              "  .colab-df-quickchart-complete:disabled,\n",
              "  .colab-df-quickchart-complete:disabled:hover {\n",
              "    background-color: var(--disabled-bg-color);\n",
              "    fill: var(--disabled-fill-color);\n",
              "    box-shadow: none;\n",
              "  }\n",
              "\n",
              "  .colab-df-spinner {\n",
              "    border: 2px solid var(--fill-color);\n",
              "    border-color: transparent;\n",
              "    border-bottom-color: var(--fill-color);\n",
              "    animation:\n",
              "      spin 1s steps(1) infinite;\n",
              "  }\n",
              "\n",
              "  @keyframes spin {\n",
              "    0% {\n",
              "      border-color: transparent;\n",
              "      border-bottom-color: var(--fill-color);\n",
              "      border-left-color: var(--fill-color);\n",
              "    }\n",
              "    20% {\n",
              "      border-color: transparent;\n",
              "      border-left-color: var(--fill-color);\n",
              "      border-top-color: var(--fill-color);\n",
              "    }\n",
              "    30% {\n",
              "      border-color: transparent;\n",
              "      border-left-color: var(--fill-color);\n",
              "      border-top-color: var(--fill-color);\n",
              "      border-right-color: var(--fill-color);\n",
              "    }\n",
              "    40% {\n",
              "      border-color: transparent;\n",
              "      border-right-color: var(--fill-color);\n",
              "      border-top-color: var(--fill-color);\n",
              "    }\n",
              "    60% {\n",
              "      border-color: transparent;\n",
              "      border-right-color: var(--fill-color);\n",
              "    }\n",
              "    80% {\n",
              "      border-color: transparent;\n",
              "      border-right-color: var(--fill-color);\n",
              "      border-bottom-color: var(--fill-color);\n",
              "    }\n",
              "    90% {\n",
              "      border-color: transparent;\n",
              "      border-bottom-color: var(--fill-color);\n",
              "    }\n",
              "  }\n",
              "</style>\n",
              "\n",
              "  <script>\n",
              "    async function quickchart(key) {\n",
              "      const quickchartButtonEl =\n",
              "        document.querySelector('#' + key + ' button');\n",
              "      quickchartButtonEl.disabled = true;  // To prevent multiple clicks.\n",
              "      quickchartButtonEl.classList.add('colab-df-spinner');\n",
              "      try {\n",
              "        const charts = await google.colab.kernel.invokeFunction(\n",
              "            'suggestCharts', [key], {});\n",
              "      } catch (error) {\n",
              "        console.error('Error during call to suggestCharts:', error);\n",
              "      }\n",
              "      quickchartButtonEl.classList.remove('colab-df-spinner');\n",
              "      quickchartButtonEl.classList.add('colab-df-quickchart-complete');\n",
              "    }\n",
              "    (() => {\n",
              "      let quickchartButtonEl =\n",
              "        document.querySelector('#df-ed3d000a-3da6-4091-a764-012265e26975 button');\n",
              "      quickchartButtonEl.style.display =\n",
              "        google.colab.kernel.accessAllowed ? 'block' : 'none';\n",
              "    })();\n",
              "  </script>\n",
              "</div>\n",
              "\n",
              "    </div>\n",
              "  </div>\n"
            ],
            "application/vnd.google.colaboratory.intrinsic+json": {
              "type": "dataframe",
              "variable_name": "df",
              "summary": "{\n  \"name\": \"df\",\n  \"rows\": 15861,\n  \"fields\": [\n    {\n      \"column\": \"rental_date\",\n      \"properties\": {\n        \"dtype\": \"object\",\n        \"num_unique_values\": 15813,\n        \"samples\": [\n          \"2005-08-20 11:07:37+00:00\",\n          \"2005-07-09 15:22:39+00:00\",\n          \"2005-07-29 09:39:16+00:00\"\n        ],\n        \"semantic_type\": \"\",\n        \"description\": \"\"\n      }\n    },\n    {\n      \"column\": \"return_date\",\n      \"properties\": {\n        \"dtype\": \"object\",\n        \"num_unique_values\": 15836,\n        \"samples\": [\n          \"2005-07-11 19:58:55+00:00\",\n          \"2005-07-17 13:31:39+00:00\",\n          \"2005-08-05 23:20:38+00:00\"\n        ],\n        \"semantic_type\": \"\",\n        \"description\": \"\"\n      }\n    },\n    {\n      \"column\": \"amount\",\n      \"properties\": {\n        \"dtype\": \"number\",\n        \"std\": 2.360383128994326,\n        \"min\": 0.99,\n        \"max\": 11.99,\n        \"num_unique_values\": 12,\n        \"samples\": [\n          10.99,\n          9.99,\n          2.99\n        ],\n        \"semantic_type\": \"\",\n        \"description\": \"\"\n      }\n    },\n    {\n      \"column\": \"release_year\",\n      \"properties\": {\n        \"dtype\": \"number\",\n        \"std\": 2.0250265740774838,\n        \"min\": 2004.0,\n        \"max\": 2010.0,\n        \"num_unique_values\": 7,\n        \"samples\": [\n          2005.0,\n          2009.0,\n          2007.0\n        ],\n        \"semantic_type\": \"\",\n        \"description\": \"\"\n      }\n    },\n    {\n      \"column\": \"rental_rate\",\n      \"properties\": {\n        \"dtype\": \"number\",\n        \"std\": 1.649765654828059,\n        \"min\": 0.99,\n        \"max\": 4.99,\n        \"num_unique_values\": 3,\n        \"samples\": [\n          2.99,\n          0.99,\n          4.99\n        ],\n        \"semantic_type\": \"\",\n        \"description\": \"\"\n      }\n    },\n    {\n      \"column\": \"length\",\n      \"properties\": {\n        \"dtype\": \"number\",\n        \"std\": 40.11471533913913,\n        \"min\": 46.0,\n        \"max\": 185.0,\n        \"num_unique_values\": 140,\n        \"samples\": [\n          117.0,\n          86.0,\n          167.0\n        ],\n        \"semantic_type\": \"\",\n        \"description\": \"\"\n      }\n    },\n    {\n      \"column\": \"replacement_cost\",\n      \"properties\": {\n        \"dtype\": \"number\",\n        \"std\": 6.08378404294751,\n        \"min\": 9.99,\n        \"max\": 29.99,\n        \"num_unique_values\": 21,\n        \"samples\": [\n          16.99,\n          22.99,\n          23.99\n        ],\n        \"semantic_type\": \"\",\n        \"description\": \"\"\n      }\n    },\n    {\n      \"column\": \"special_features\",\n      \"properties\": {\n        \"dtype\": \"category\",\n        \"num_unique_values\": 15,\n        \"samples\": [\n          \"{Commentaries,\\\"Deleted Scenes\\\"}\",\n          \"{Trailers,Commentaries,\\\"Behind the Scenes\\\"}\",\n          \"{Trailers,\\\"Behind the Scenes\\\"}\"\n        ],\n        \"semantic_type\": \"\",\n        \"description\": \"\"\n      }\n    },\n    {\n      \"column\": \"NC-17\",\n      \"properties\": {\n        \"dtype\": \"number\",\n        \"std\": 0,\n        \"min\": 0,\n        \"max\": 1,\n        \"num_unique_values\": 2,\n        \"samples\": [\n          1,\n          0\n        ],\n        \"semantic_type\": \"\",\n        \"description\": \"\"\n      }\n    },\n    {\n      \"column\": \"PG\",\n      \"properties\": {\n        \"dtype\": \"number\",\n        \"std\": 0,\n        \"min\": 0,\n        \"max\": 1,\n        \"num_unique_values\": 2,\n        \"samples\": [\n          1,\n          0\n        ],\n        \"semantic_type\": \"\",\n        \"description\": \"\"\n      }\n    },\n    {\n      \"column\": \"PG-13\",\n      \"properties\": {\n        \"dtype\": \"number\",\n        \"std\": 0,\n        \"min\": 0,\n        \"max\": 1,\n        \"num_unique_values\": 2,\n        \"samples\": [\n          1,\n          0\n        ],\n        \"semantic_type\": \"\",\n        \"description\": \"\"\n      }\n    },\n    {\n      \"column\": \"R\",\n      \"properties\": {\n        \"dtype\": \"number\",\n        \"std\": 0,\n        \"min\": 0,\n        \"max\": 1,\n        \"num_unique_values\": 2,\n        \"samples\": [\n          0,\n          1\n        ],\n        \"semantic_type\": \"\",\n        \"description\": \"\"\n      }\n    },\n    {\n      \"column\": \"amount_2\",\n      \"properties\": {\n        \"dtype\": \"number\",\n        \"std\": 23.50316444544151,\n        \"min\": 0.9801,\n        \"max\": 143.7601,\n        \"num_unique_values\": 12,\n        \"samples\": [\n          120.7801,\n          99.8001\n        ],\n        \"semantic_type\": \"\",\n        \"description\": \"\"\n      }\n    },\n    {\n      \"column\": \"length_2\",\n      \"properties\": {\n        \"dtype\": \"number\",\n        \"std\": 9393.431995680117,\n        \"min\": 2116.0,\n        \"max\": 34225.0,\n        \"num_unique_values\": 140,\n        \"samples\": [\n          13689.0,\n          7396.0\n        ],\n        \"semantic_type\": \"\",\n        \"description\": \"\"\n      }\n    },\n    {\n      \"column\": \"rental_rate_2\",\n      \"properties\": {\n        \"dtype\": \"number\",\n        \"std\": 10.005292603277828,\n        \"min\": 0.9801,\n        \"max\": 24.9001,\n        \"num_unique_values\": 3,\n        \"samples\": [\n          8.940100000000001,\n          0.9801\n        ],\n        \"semantic_type\": \"\",\n        \"description\": \"\"\n      }\n    }\n  ]\n}"
            }
          },
          "metadata": {},
          "execution_count": 6
        }
      ]
    },
    {
      "cell_type": "code",
      "source": [
        "df.info()"
      ],
      "metadata": {
        "colab": {
          "base_uri": "https://localhost:8080/"
        },
        "id": "M2J5CYdnn2sv",
        "outputId": "19355ea1-2b06-4f82-b5fa-0b5106a53f56"
      },
      "id": "M2J5CYdnn2sv",
      "execution_count": 7,
      "outputs": [
        {
          "output_type": "stream",
          "name": "stdout",
          "text": [
            "<class 'pandas.core.frame.DataFrame'>\n",
            "RangeIndex: 15861 entries, 0 to 15860\n",
            "Data columns (total 15 columns):\n",
            " #   Column            Non-Null Count  Dtype  \n",
            "---  ------            --------------  -----  \n",
            " 0   rental_date       15861 non-null  object \n",
            " 1   return_date       15861 non-null  object \n",
            " 2   amount            15861 non-null  float64\n",
            " 3   release_year      15861 non-null  float64\n",
            " 4   rental_rate       15861 non-null  float64\n",
            " 5   length            15861 non-null  float64\n",
            " 6   replacement_cost  15861 non-null  float64\n",
            " 7   special_features  15861 non-null  object \n",
            " 8   NC-17             15861 non-null  int64  \n",
            " 9   PG                15861 non-null  int64  \n",
            " 10  PG-13             15861 non-null  int64  \n",
            " 11  R                 15861 non-null  int64  \n",
            " 12  amount_2          15861 non-null  float64\n",
            " 13  length_2          15861 non-null  float64\n",
            " 14  rental_rate_2     15861 non-null  float64\n",
            "dtypes: float64(8), int64(4), object(3)\n",
            "memory usage: 1.8+ MB\n"
          ]
        }
      ]
    },
    {
      "cell_type": "markdown",
      "source": [
        "Rental date, return date, special features have object data types.\n",
        "dataset doesn't have null values\n",
        "Need to convert rental and return date to DateTime format"
      ],
      "metadata": {
        "id": "lnHs6H4wn8fA"
      },
      "id": "lnHs6H4wn8fA"
    },
    {
      "cell_type": "code",
      "source": [
        "df['return_date'] = pd.to_datetime(df['return_date'])\n",
        "df['rental_date'] = pd.to_datetime(df['rental_date'])"
      ],
      "metadata": {
        "id": "zaUWdZ5LoQeQ"
      },
      "id": "zaUWdZ5LoQeQ",
      "execution_count": 8,
      "outputs": []
    },
    {
      "cell_type": "code",
      "source": [
        "for column_name in ['rental_date', 'return_date']:\n",
        "  dtype = df[column_name].dtype\n",
        "  print(f\"Column '{column_name}' has data type: {dtype}\")"
      ],
      "metadata": {
        "colab": {
          "base_uri": "https://localhost:8080/"
        },
        "id": "WT-5oTK-o4d_",
        "outputId": "b679ccdf-baee-4574-f970-2911377f6b9d"
      },
      "id": "WT-5oTK-o4d_",
      "execution_count": 9,
      "outputs": [
        {
          "output_type": "stream",
          "name": "stdout",
          "text": [
            "Column 'rental_date' has data type: datetime64[ns, UTC]\n",
            "Column 'return_date' has data type: datetime64[ns, UTC]\n"
          ]
        }
      ]
    },
    {
      "cell_type": "code",
      "source": [
        "#Calculating rental period\n",
        "df['rental_length_days'] = (df['return_date'] - df['rental_date']).dt.days"
      ],
      "metadata": {
        "id": "TWiKejeLq-Pf"
      },
      "id": "TWiKejeLq-Pf",
      "execution_count": 10,
      "outputs": []
    },
    {
      "cell_type": "code",
      "source": [
        "df.duplicated().sum()"
      ],
      "metadata": {
        "colab": {
          "base_uri": "https://localhost:8080/"
        },
        "id": "XugNyNmirXuL",
        "outputId": "e982dc59-586b-4701-d2bd-64f52df8a61a"
      },
      "id": "XugNyNmirXuL",
      "execution_count": 11,
      "outputs": [
        {
          "output_type": "execute_result",
          "data": {
            "text/plain": [
              "0"
            ]
          },
          "metadata": {},
          "execution_count": 11
        }
      ]
    },
    {
      "cell_type": "markdown",
      "source": [
        "There is 0 duplicated"
      ],
      "metadata": {
        "id": "gcl8OiWJreB0"
      },
      "id": "gcl8OiWJreB0"
    },
    {
      "cell_type": "code",
      "source": [
        "#rechecking for missing values\n",
        "round(df.isnull().sum() / df.isnull().count() * 100, 2)"
      ],
      "metadata": {
        "colab": {
          "base_uri": "https://localhost:8080/"
        },
        "id": "3BEJEod4rjON",
        "outputId": "5b8ac053-74d9-4564-9a4a-1bf8cf3931a4"
      },
      "id": "3BEJEod4rjON",
      "execution_count": 12,
      "outputs": [
        {
          "output_type": "execute_result",
          "data": {
            "text/plain": [
              "rental_date           0.0\n",
              "return_date           0.0\n",
              "amount                0.0\n",
              "release_year          0.0\n",
              "rental_rate           0.0\n",
              "length                0.0\n",
              "replacement_cost      0.0\n",
              "special_features      0.0\n",
              "NC-17                 0.0\n",
              "PG                    0.0\n",
              "PG-13                 0.0\n",
              "R                     0.0\n",
              "amount_2              0.0\n",
              "length_2              0.0\n",
              "rental_rate_2         0.0\n",
              "rental_length_days    0.0\n",
              "dtype: float64"
            ]
          },
          "metadata": {},
          "execution_count": 12
        }
      ]
    },
    {
      "cell_type": "code",
      "source": [
        "df.head()"
      ],
      "metadata": {
        "colab": {
          "base_uri": "https://localhost:8080/",
          "height": 313
        },
        "id": "glmskg7tr4a8",
        "outputId": "1cf13164-6173-4beb-cb5b-2dcea8d26249"
      },
      "id": "glmskg7tr4a8",
      "execution_count": 13,
      "outputs": [
        {
          "output_type": "execute_result",
          "data": {
            "text/plain": [
              "                rental_date               return_date  amount  release_year  \\\n",
              "0 2005-05-25 02:54:33+00:00 2005-05-28 23:40:33+00:00    2.99        2005.0   \n",
              "1 2005-06-15 23:19:16+00:00 2005-06-18 19:24:16+00:00    2.99        2005.0   \n",
              "2 2005-07-10 04:27:45+00:00 2005-07-17 10:11:45+00:00    2.99        2005.0   \n",
              "3 2005-07-31 12:06:41+00:00 2005-08-02 14:30:41+00:00    2.99        2005.0   \n",
              "4 2005-08-19 12:30:04+00:00 2005-08-23 13:35:04+00:00    2.99        2005.0   \n",
              "\n",
              "   rental_rate  length  replacement_cost                special_features  \\\n",
              "0         2.99   126.0             16.99  {Trailers,\"Behind the Scenes\"}   \n",
              "1         2.99   126.0             16.99  {Trailers,\"Behind the Scenes\"}   \n",
              "2         2.99   126.0             16.99  {Trailers,\"Behind the Scenes\"}   \n",
              "3         2.99   126.0             16.99  {Trailers,\"Behind the Scenes\"}   \n",
              "4         2.99   126.0             16.99  {Trailers,\"Behind the Scenes\"}   \n",
              "\n",
              "   NC-17  PG  PG-13  R  amount_2  length_2  rental_rate_2  rental_length_days  \n",
              "0      0   0      0  1    8.9401   15876.0         8.9401                   3  \n",
              "1      0   0      0  1    8.9401   15876.0         8.9401                   2  \n",
              "2      0   0      0  1    8.9401   15876.0         8.9401                   7  \n",
              "3      0   0      0  1    8.9401   15876.0         8.9401                   2  \n",
              "4      0   0      0  1    8.9401   15876.0         8.9401                   4  "
            ],
            "text/html": [
              "\n",
              "  <div id=\"df-8638de77-241f-48cc-be14-36ab5c691f3f\" class=\"colab-df-container\">\n",
              "    <div>\n",
              "<style scoped>\n",
              "    .dataframe tbody tr th:only-of-type {\n",
              "        vertical-align: middle;\n",
              "    }\n",
              "\n",
              "    .dataframe tbody tr th {\n",
              "        vertical-align: top;\n",
              "    }\n",
              "\n",
              "    .dataframe thead th {\n",
              "        text-align: right;\n",
              "    }\n",
              "</style>\n",
              "<table border=\"1\" class=\"dataframe\">\n",
              "  <thead>\n",
              "    <tr style=\"text-align: right;\">\n",
              "      <th></th>\n",
              "      <th>rental_date</th>\n",
              "      <th>return_date</th>\n",
              "      <th>amount</th>\n",
              "      <th>release_year</th>\n",
              "      <th>rental_rate</th>\n",
              "      <th>length</th>\n",
              "      <th>replacement_cost</th>\n",
              "      <th>special_features</th>\n",
              "      <th>NC-17</th>\n",
              "      <th>PG</th>\n",
              "      <th>PG-13</th>\n",
              "      <th>R</th>\n",
              "      <th>amount_2</th>\n",
              "      <th>length_2</th>\n",
              "      <th>rental_rate_2</th>\n",
              "      <th>rental_length_days</th>\n",
              "    </tr>\n",
              "  </thead>\n",
              "  <tbody>\n",
              "    <tr>\n",
              "      <th>0</th>\n",
              "      <td>2005-05-25 02:54:33+00:00</td>\n",
              "      <td>2005-05-28 23:40:33+00:00</td>\n",
              "      <td>2.99</td>\n",
              "      <td>2005.0</td>\n",
              "      <td>2.99</td>\n",
              "      <td>126.0</td>\n",
              "      <td>16.99</td>\n",
              "      <td>{Trailers,\"Behind the Scenes\"}</td>\n",
              "      <td>0</td>\n",
              "      <td>0</td>\n",
              "      <td>0</td>\n",
              "      <td>1</td>\n",
              "      <td>8.9401</td>\n",
              "      <td>15876.0</td>\n",
              "      <td>8.9401</td>\n",
              "      <td>3</td>\n",
              "    </tr>\n",
              "    <tr>\n",
              "      <th>1</th>\n",
              "      <td>2005-06-15 23:19:16+00:00</td>\n",
              "      <td>2005-06-18 19:24:16+00:00</td>\n",
              "      <td>2.99</td>\n",
              "      <td>2005.0</td>\n",
              "      <td>2.99</td>\n",
              "      <td>126.0</td>\n",
              "      <td>16.99</td>\n",
              "      <td>{Trailers,\"Behind the Scenes\"}</td>\n",
              "      <td>0</td>\n",
              "      <td>0</td>\n",
              "      <td>0</td>\n",
              "      <td>1</td>\n",
              "      <td>8.9401</td>\n",
              "      <td>15876.0</td>\n",
              "      <td>8.9401</td>\n",
              "      <td>2</td>\n",
              "    </tr>\n",
              "    <tr>\n",
              "      <th>2</th>\n",
              "      <td>2005-07-10 04:27:45+00:00</td>\n",
              "      <td>2005-07-17 10:11:45+00:00</td>\n",
              "      <td>2.99</td>\n",
              "      <td>2005.0</td>\n",
              "      <td>2.99</td>\n",
              "      <td>126.0</td>\n",
              "      <td>16.99</td>\n",
              "      <td>{Trailers,\"Behind the Scenes\"}</td>\n",
              "      <td>0</td>\n",
              "      <td>0</td>\n",
              "      <td>0</td>\n",
              "      <td>1</td>\n",
              "      <td>8.9401</td>\n",
              "      <td>15876.0</td>\n",
              "      <td>8.9401</td>\n",
              "      <td>7</td>\n",
              "    </tr>\n",
              "    <tr>\n",
              "      <th>3</th>\n",
              "      <td>2005-07-31 12:06:41+00:00</td>\n",
              "      <td>2005-08-02 14:30:41+00:00</td>\n",
              "      <td>2.99</td>\n",
              "      <td>2005.0</td>\n",
              "      <td>2.99</td>\n",
              "      <td>126.0</td>\n",
              "      <td>16.99</td>\n",
              "      <td>{Trailers,\"Behind the Scenes\"}</td>\n",
              "      <td>0</td>\n",
              "      <td>0</td>\n",
              "      <td>0</td>\n",
              "      <td>1</td>\n",
              "      <td>8.9401</td>\n",
              "      <td>15876.0</td>\n",
              "      <td>8.9401</td>\n",
              "      <td>2</td>\n",
              "    </tr>\n",
              "    <tr>\n",
              "      <th>4</th>\n",
              "      <td>2005-08-19 12:30:04+00:00</td>\n",
              "      <td>2005-08-23 13:35:04+00:00</td>\n",
              "      <td>2.99</td>\n",
              "      <td>2005.0</td>\n",
              "      <td>2.99</td>\n",
              "      <td>126.0</td>\n",
              "      <td>16.99</td>\n",
              "      <td>{Trailers,\"Behind the Scenes\"}</td>\n",
              "      <td>0</td>\n",
              "      <td>0</td>\n",
              "      <td>0</td>\n",
              "      <td>1</td>\n",
              "      <td>8.9401</td>\n",
              "      <td>15876.0</td>\n",
              "      <td>8.9401</td>\n",
              "      <td>4</td>\n",
              "    </tr>\n",
              "  </tbody>\n",
              "</table>\n",
              "</div>\n",
              "    <div class=\"colab-df-buttons\">\n",
              "\n",
              "  <div class=\"colab-df-container\">\n",
              "    <button class=\"colab-df-convert\" onclick=\"convertToInteractive('df-8638de77-241f-48cc-be14-36ab5c691f3f')\"\n",
              "            title=\"Convert this dataframe to an interactive table.\"\n",
              "            style=\"display:none;\">\n",
              "\n",
              "  <svg xmlns=\"http://www.w3.org/2000/svg\" height=\"24px\" viewBox=\"0 -960 960 960\">\n",
              "    <path d=\"M120-120v-720h720v720H120Zm60-500h600v-160H180v160Zm220 220h160v-160H400v160Zm0 220h160v-160H400v160ZM180-400h160v-160H180v160Zm440 0h160v-160H620v160ZM180-180h160v-160H180v160Zm440 0h160v-160H620v160Z\"/>\n",
              "  </svg>\n",
              "    </button>\n",
              "\n",
              "  <style>\n",
              "    .colab-df-container {\n",
              "      display:flex;\n",
              "      gap: 12px;\n",
              "    }\n",
              "\n",
              "    .colab-df-convert {\n",
              "      background-color: #E8F0FE;\n",
              "      border: none;\n",
              "      border-radius: 50%;\n",
              "      cursor: pointer;\n",
              "      display: none;\n",
              "      fill: #1967D2;\n",
              "      height: 32px;\n",
              "      padding: 0 0 0 0;\n",
              "      width: 32px;\n",
              "    }\n",
              "\n",
              "    .colab-df-convert:hover {\n",
              "      background-color: #E2EBFA;\n",
              "      box-shadow: 0px 1px 2px rgba(60, 64, 67, 0.3), 0px 1px 3px 1px rgba(60, 64, 67, 0.15);\n",
              "      fill: #174EA6;\n",
              "    }\n",
              "\n",
              "    .colab-df-buttons div {\n",
              "      margin-bottom: 4px;\n",
              "    }\n",
              "\n",
              "    [theme=dark] .colab-df-convert {\n",
              "      background-color: #3B4455;\n",
              "      fill: #D2E3FC;\n",
              "    }\n",
              "\n",
              "    [theme=dark] .colab-df-convert:hover {\n",
              "      background-color: #434B5C;\n",
              "      box-shadow: 0px 1px 3px 1px rgba(0, 0, 0, 0.15);\n",
              "      filter: drop-shadow(0px 1px 2px rgba(0, 0, 0, 0.3));\n",
              "      fill: #FFFFFF;\n",
              "    }\n",
              "  </style>\n",
              "\n",
              "    <script>\n",
              "      const buttonEl =\n",
              "        document.querySelector('#df-8638de77-241f-48cc-be14-36ab5c691f3f button.colab-df-convert');\n",
              "      buttonEl.style.display =\n",
              "        google.colab.kernel.accessAllowed ? 'block' : 'none';\n",
              "\n",
              "      async function convertToInteractive(key) {\n",
              "        const element = document.querySelector('#df-8638de77-241f-48cc-be14-36ab5c691f3f');\n",
              "        const dataTable =\n",
              "          await google.colab.kernel.invokeFunction('convertToInteractive',\n",
              "                                                    [key], {});\n",
              "        if (!dataTable) return;\n",
              "\n",
              "        const docLinkHtml = 'Like what you see? Visit the ' +\n",
              "          '<a target=\"_blank\" href=https://colab.research.google.com/notebooks/data_table.ipynb>data table notebook</a>'\n",
              "          + ' to learn more about interactive tables.';\n",
              "        element.innerHTML = '';\n",
              "        dataTable['output_type'] = 'display_data';\n",
              "        await google.colab.output.renderOutput(dataTable, element);\n",
              "        const docLink = document.createElement('div');\n",
              "        docLink.innerHTML = docLinkHtml;\n",
              "        element.appendChild(docLink);\n",
              "      }\n",
              "    </script>\n",
              "  </div>\n",
              "\n",
              "\n",
              "<div id=\"df-08afe760-581f-4d6d-86c5-eebd8d0671a5\">\n",
              "  <button class=\"colab-df-quickchart\" onclick=\"quickchart('df-08afe760-581f-4d6d-86c5-eebd8d0671a5')\"\n",
              "            title=\"Suggest charts\"\n",
              "            style=\"display:none;\">\n",
              "\n",
              "<svg xmlns=\"http://www.w3.org/2000/svg\" height=\"24px\"viewBox=\"0 0 24 24\"\n",
              "     width=\"24px\">\n",
              "    <g>\n",
              "        <path d=\"M19 3H5c-1.1 0-2 .9-2 2v14c0 1.1.9 2 2 2h14c1.1 0 2-.9 2-2V5c0-1.1-.9-2-2-2zM9 17H7v-7h2v7zm4 0h-2V7h2v10zm4 0h-2v-4h2v4z\"/>\n",
              "    </g>\n",
              "</svg>\n",
              "  </button>\n",
              "\n",
              "<style>\n",
              "  .colab-df-quickchart {\n",
              "      --bg-color: #E8F0FE;\n",
              "      --fill-color: #1967D2;\n",
              "      --hover-bg-color: #E2EBFA;\n",
              "      --hover-fill-color: #174EA6;\n",
              "      --disabled-fill-color: #AAA;\n",
              "      --disabled-bg-color: #DDD;\n",
              "  }\n",
              "\n",
              "  [theme=dark] .colab-df-quickchart {\n",
              "      --bg-color: #3B4455;\n",
              "      --fill-color: #D2E3FC;\n",
              "      --hover-bg-color: #434B5C;\n",
              "      --hover-fill-color: #FFFFFF;\n",
              "      --disabled-bg-color: #3B4455;\n",
              "      --disabled-fill-color: #666;\n",
              "  }\n",
              "\n",
              "  .colab-df-quickchart {\n",
              "    background-color: var(--bg-color);\n",
              "    border: none;\n",
              "    border-radius: 50%;\n",
              "    cursor: pointer;\n",
              "    display: none;\n",
              "    fill: var(--fill-color);\n",
              "    height: 32px;\n",
              "    padding: 0;\n",
              "    width: 32px;\n",
              "  }\n",
              "\n",
              "  .colab-df-quickchart:hover {\n",
              "    background-color: var(--hover-bg-color);\n",
              "    box-shadow: 0 1px 2px rgba(60, 64, 67, 0.3), 0 1px 3px 1px rgba(60, 64, 67, 0.15);\n",
              "    fill: var(--button-hover-fill-color);\n",
              "  }\n",
              "\n",
              "  .colab-df-quickchart-complete:disabled,\n",
              "  .colab-df-quickchart-complete:disabled:hover {\n",
              "    background-color: var(--disabled-bg-color);\n",
              "    fill: var(--disabled-fill-color);\n",
              "    box-shadow: none;\n",
              "  }\n",
              "\n",
              "  .colab-df-spinner {\n",
              "    border: 2px solid var(--fill-color);\n",
              "    border-color: transparent;\n",
              "    border-bottom-color: var(--fill-color);\n",
              "    animation:\n",
              "      spin 1s steps(1) infinite;\n",
              "  }\n",
              "\n",
              "  @keyframes spin {\n",
              "    0% {\n",
              "      border-color: transparent;\n",
              "      border-bottom-color: var(--fill-color);\n",
              "      border-left-color: var(--fill-color);\n",
              "    }\n",
              "    20% {\n",
              "      border-color: transparent;\n",
              "      border-left-color: var(--fill-color);\n",
              "      border-top-color: var(--fill-color);\n",
              "    }\n",
              "    30% {\n",
              "      border-color: transparent;\n",
              "      border-left-color: var(--fill-color);\n",
              "      border-top-color: var(--fill-color);\n",
              "      border-right-color: var(--fill-color);\n",
              "    }\n",
              "    40% {\n",
              "      border-color: transparent;\n",
              "      border-right-color: var(--fill-color);\n",
              "      border-top-color: var(--fill-color);\n",
              "    }\n",
              "    60% {\n",
              "      border-color: transparent;\n",
              "      border-right-color: var(--fill-color);\n",
              "    }\n",
              "    80% {\n",
              "      border-color: transparent;\n",
              "      border-right-color: var(--fill-color);\n",
              "      border-bottom-color: var(--fill-color);\n",
              "    }\n",
              "    90% {\n",
              "      border-color: transparent;\n",
              "      border-bottom-color: var(--fill-color);\n",
              "    }\n",
              "  }\n",
              "</style>\n",
              "\n",
              "  <script>\n",
              "    async function quickchart(key) {\n",
              "      const quickchartButtonEl =\n",
              "        document.querySelector('#' + key + ' button');\n",
              "      quickchartButtonEl.disabled = true;  // To prevent multiple clicks.\n",
              "      quickchartButtonEl.classList.add('colab-df-spinner');\n",
              "      try {\n",
              "        const charts = await google.colab.kernel.invokeFunction(\n",
              "            'suggestCharts', [key], {});\n",
              "      } catch (error) {\n",
              "        console.error('Error during call to suggestCharts:', error);\n",
              "      }\n",
              "      quickchartButtonEl.classList.remove('colab-df-spinner');\n",
              "      quickchartButtonEl.classList.add('colab-df-quickchart-complete');\n",
              "    }\n",
              "    (() => {\n",
              "      let quickchartButtonEl =\n",
              "        document.querySelector('#df-08afe760-581f-4d6d-86c5-eebd8d0671a5 button');\n",
              "      quickchartButtonEl.style.display =\n",
              "        google.colab.kernel.accessAllowed ? 'block' : 'none';\n",
              "    })();\n",
              "  </script>\n",
              "</div>\n",
              "\n",
              "    </div>\n",
              "  </div>\n"
            ],
            "application/vnd.google.colaboratory.intrinsic+json": {
              "type": "dataframe",
              "variable_name": "df",
              "summary": "{\n  \"name\": \"df\",\n  \"rows\": 15861,\n  \"fields\": [\n    {\n      \"column\": \"rental_date\",\n      \"properties\": {\n        \"dtype\": \"date\",\n        \"min\": \"2005-05-25 02:53:30+00:00\",\n        \"max\": \"2005-08-24 02:50:12+00:00\",\n        \"num_unique_values\": 15813,\n        \"samples\": [\n          \"2005-08-20 11:07:37+00:00\",\n          \"2005-07-09 15:22:39+00:00\",\n          \"2005-07-29 09:39:16+00:00\"\n        ],\n        \"semantic_type\": \"\",\n        \"description\": \"\"\n      }\n    },\n    {\n      \"column\": \"return_date\",\n      \"properties\": {\n        \"dtype\": \"date\",\n        \"min\": \"2005-05-26 03:55:21+00:00\",\n        \"max\": \"2005-09-02 06:35:22+00:00\",\n        \"num_unique_values\": 15836,\n        \"samples\": [\n          \"2005-07-11 19:58:55+00:00\",\n          \"2005-07-17 13:31:39+00:00\",\n          \"2005-08-05 23:20:38+00:00\"\n        ],\n        \"semantic_type\": \"\",\n        \"description\": \"\"\n      }\n    },\n    {\n      \"column\": \"amount\",\n      \"properties\": {\n        \"dtype\": \"number\",\n        \"std\": 2.360383128994326,\n        \"min\": 0.99,\n        \"max\": 11.99,\n        \"num_unique_values\": 12,\n        \"samples\": [\n          10.99,\n          9.99,\n          2.99\n        ],\n        \"semantic_type\": \"\",\n        \"description\": \"\"\n      }\n    },\n    {\n      \"column\": \"release_year\",\n      \"properties\": {\n        \"dtype\": \"number\",\n        \"std\": 2.0250265740774838,\n        \"min\": 2004.0,\n        \"max\": 2010.0,\n        \"num_unique_values\": 7,\n        \"samples\": [\n          2005.0,\n          2009.0,\n          2007.0\n        ],\n        \"semantic_type\": \"\",\n        \"description\": \"\"\n      }\n    },\n    {\n      \"column\": \"rental_rate\",\n      \"properties\": {\n        \"dtype\": \"number\",\n        \"std\": 1.649765654828059,\n        \"min\": 0.99,\n        \"max\": 4.99,\n        \"num_unique_values\": 3,\n        \"samples\": [\n          2.99,\n          0.99,\n          4.99\n        ],\n        \"semantic_type\": \"\",\n        \"description\": \"\"\n      }\n    },\n    {\n      \"column\": \"length\",\n      \"properties\": {\n        \"dtype\": \"number\",\n        \"std\": 40.11471533913913,\n        \"min\": 46.0,\n        \"max\": 185.0,\n        \"num_unique_values\": 140,\n        \"samples\": [\n          117.0,\n          86.0,\n          167.0\n        ],\n        \"semantic_type\": \"\",\n        \"description\": \"\"\n      }\n    },\n    {\n      \"column\": \"replacement_cost\",\n      \"properties\": {\n        \"dtype\": \"number\",\n        \"std\": 6.08378404294751,\n        \"min\": 9.99,\n        \"max\": 29.99,\n        \"num_unique_values\": 21,\n        \"samples\": [\n          16.99,\n          22.99,\n          23.99\n        ],\n        \"semantic_type\": \"\",\n        \"description\": \"\"\n      }\n    },\n    {\n      \"column\": \"special_features\",\n      \"properties\": {\n        \"dtype\": \"category\",\n        \"num_unique_values\": 15,\n        \"samples\": [\n          \"{Commentaries,\\\"Deleted Scenes\\\"}\",\n          \"{Trailers,Commentaries,\\\"Behind the Scenes\\\"}\",\n          \"{Trailers,\\\"Behind the Scenes\\\"}\"\n        ],\n        \"semantic_type\": \"\",\n        \"description\": \"\"\n      }\n    },\n    {\n      \"column\": \"NC-17\",\n      \"properties\": {\n        \"dtype\": \"number\",\n        \"std\": 0,\n        \"min\": 0,\n        \"max\": 1,\n        \"num_unique_values\": 2,\n        \"samples\": [\n          1,\n          0\n        ],\n        \"semantic_type\": \"\",\n        \"description\": \"\"\n      }\n    },\n    {\n      \"column\": \"PG\",\n      \"properties\": {\n        \"dtype\": \"number\",\n        \"std\": 0,\n        \"min\": 0,\n        \"max\": 1,\n        \"num_unique_values\": 2,\n        \"samples\": [\n          1,\n          0\n        ],\n        \"semantic_type\": \"\",\n        \"description\": \"\"\n      }\n    },\n    {\n      \"column\": \"PG-13\",\n      \"properties\": {\n        \"dtype\": \"number\",\n        \"std\": 0,\n        \"min\": 0,\n        \"max\": 1,\n        \"num_unique_values\": 2,\n        \"samples\": [\n          1,\n          0\n        ],\n        \"semantic_type\": \"\",\n        \"description\": \"\"\n      }\n    },\n    {\n      \"column\": \"R\",\n      \"properties\": {\n        \"dtype\": \"number\",\n        \"std\": 0,\n        \"min\": 0,\n        \"max\": 1,\n        \"num_unique_values\": 2,\n        \"samples\": [\n          0,\n          1\n        ],\n        \"semantic_type\": \"\",\n        \"description\": \"\"\n      }\n    },\n    {\n      \"column\": \"amount_2\",\n      \"properties\": {\n        \"dtype\": \"number\",\n        \"std\": 23.50316444544151,\n        \"min\": 0.9801,\n        \"max\": 143.7601,\n        \"num_unique_values\": 12,\n        \"samples\": [\n          120.7801,\n          99.8001\n        ],\n        \"semantic_type\": \"\",\n        \"description\": \"\"\n      }\n    },\n    {\n      \"column\": \"length_2\",\n      \"properties\": {\n        \"dtype\": \"number\",\n        \"std\": 9393.431995680117,\n        \"min\": 2116.0,\n        \"max\": 34225.0,\n        \"num_unique_values\": 140,\n        \"samples\": [\n          13689.0,\n          7396.0\n        ],\n        \"semantic_type\": \"\",\n        \"description\": \"\"\n      }\n    },\n    {\n      \"column\": \"rental_rate_2\",\n      \"properties\": {\n        \"dtype\": \"number\",\n        \"std\": 10.005292603277828,\n        \"min\": 0.9801,\n        \"max\": 24.9001,\n        \"num_unique_values\": 3,\n        \"samples\": [\n          8.940100000000001,\n          0.9801\n        ],\n        \"semantic_type\": \"\",\n        \"description\": \"\"\n      }\n    },\n    {\n      \"column\": \"rental_length_days\",\n      \"properties\": {\n        \"dtype\": \"number\",\n        \"std\": 2,\n        \"min\": 0,\n        \"max\": 9,\n        \"num_unique_values\": 10,\n        \"samples\": [\n          9,\n          2\n        ],\n        \"semantic_type\": \"\",\n        \"description\": \"\"\n      }\n    }\n  ]\n}"
            }
          },
          "metadata": {},
          "execution_count": 13
        }
      ]
    },
    {
      "cell_type": "code",
      "source": [
        "numerical = ['amount', 'rental_rate', 'length', 'replacement_cost', 'amount_2', 'length_2', 'rental_rate_2', 'rental_length_days']"
      ],
      "metadata": {
        "id": "lKxtRGP5s8na"
      },
      "id": "lKxtRGP5s8na",
      "execution_count": 14,
      "outputs": []
    },
    {
      "cell_type": "code",
      "source": [
        "# checking statistic summary of the numarical columns in the data\n",
        "df[numerical].describe().T"
      ],
      "metadata": {
        "colab": {
          "base_uri": "https://localhost:8080/",
          "height": 300
        },
        "id": "wA0z_jJ6roWz",
        "outputId": "ea528c4b-8042-4cf3-948d-920ed9b5f159"
      },
      "id": "wA0z_jJ6roWz",
      "execution_count": 15,
      "outputs": [
        {
          "output_type": "execute_result",
          "data": {
            "text/plain": [
              "                      count          mean          std        min        25%  \\\n",
              "amount              15861.0      4.217161     2.360383     0.9900     2.9900   \n",
              "rental_rate         15861.0      2.944101     1.649766     0.9900     0.9900   \n",
              "length              15861.0    114.994578    40.114715    46.0000    81.0000   \n",
              "replacement_cost    15861.0     20.224727     6.083784     9.9900    14.9900   \n",
              "amount_2            15861.0     23.355504    23.503164     0.9801     8.9401   \n",
              "length_2            15861.0  14832.841876  9393.431996  2116.0000  6561.0000   \n",
              "rental_rate_2       15861.0     11.389287    10.005293     0.9801     0.9801   \n",
              "rental_length_days  15861.0      4.525944     2.635108     0.0000     2.0000   \n",
              "\n",
              "                           50%         75%         max  \n",
              "amount                  3.9900      4.9900     11.9900  \n",
              "rental_rate             2.9900      4.9900      4.9900  \n",
              "length                114.0000    148.0000    185.0000  \n",
              "replacement_cost       20.9900     25.9900     29.9900  \n",
              "amount_2               15.9201     24.9001    143.7601  \n",
              "length_2            12996.0000  21904.0000  34225.0000  \n",
              "rental_rate_2           8.9401     24.9001     24.9001  \n",
              "rental_length_days      5.0000      7.0000      9.0000  "
            ],
            "text/html": [
              "\n",
              "  <div id=\"df-ab066afd-4b51-43ff-8712-5b0f90547888\" class=\"colab-df-container\">\n",
              "    <div>\n",
              "<style scoped>\n",
              "    .dataframe tbody tr th:only-of-type {\n",
              "        vertical-align: middle;\n",
              "    }\n",
              "\n",
              "    .dataframe tbody tr th {\n",
              "        vertical-align: top;\n",
              "    }\n",
              "\n",
              "    .dataframe thead th {\n",
              "        text-align: right;\n",
              "    }\n",
              "</style>\n",
              "<table border=\"1\" class=\"dataframe\">\n",
              "  <thead>\n",
              "    <tr style=\"text-align: right;\">\n",
              "      <th></th>\n",
              "      <th>count</th>\n",
              "      <th>mean</th>\n",
              "      <th>std</th>\n",
              "      <th>min</th>\n",
              "      <th>25%</th>\n",
              "      <th>50%</th>\n",
              "      <th>75%</th>\n",
              "      <th>max</th>\n",
              "    </tr>\n",
              "  </thead>\n",
              "  <tbody>\n",
              "    <tr>\n",
              "      <th>amount</th>\n",
              "      <td>15861.0</td>\n",
              "      <td>4.217161</td>\n",
              "      <td>2.360383</td>\n",
              "      <td>0.9900</td>\n",
              "      <td>2.9900</td>\n",
              "      <td>3.9900</td>\n",
              "      <td>4.9900</td>\n",
              "      <td>11.9900</td>\n",
              "    </tr>\n",
              "    <tr>\n",
              "      <th>rental_rate</th>\n",
              "      <td>15861.0</td>\n",
              "      <td>2.944101</td>\n",
              "      <td>1.649766</td>\n",
              "      <td>0.9900</td>\n",
              "      <td>0.9900</td>\n",
              "      <td>2.9900</td>\n",
              "      <td>4.9900</td>\n",
              "      <td>4.9900</td>\n",
              "    </tr>\n",
              "    <tr>\n",
              "      <th>length</th>\n",
              "      <td>15861.0</td>\n",
              "      <td>114.994578</td>\n",
              "      <td>40.114715</td>\n",
              "      <td>46.0000</td>\n",
              "      <td>81.0000</td>\n",
              "      <td>114.0000</td>\n",
              "      <td>148.0000</td>\n",
              "      <td>185.0000</td>\n",
              "    </tr>\n",
              "    <tr>\n",
              "      <th>replacement_cost</th>\n",
              "      <td>15861.0</td>\n",
              "      <td>20.224727</td>\n",
              "      <td>6.083784</td>\n",
              "      <td>9.9900</td>\n",
              "      <td>14.9900</td>\n",
              "      <td>20.9900</td>\n",
              "      <td>25.9900</td>\n",
              "      <td>29.9900</td>\n",
              "    </tr>\n",
              "    <tr>\n",
              "      <th>amount_2</th>\n",
              "      <td>15861.0</td>\n",
              "      <td>23.355504</td>\n",
              "      <td>23.503164</td>\n",
              "      <td>0.9801</td>\n",
              "      <td>8.9401</td>\n",
              "      <td>15.9201</td>\n",
              "      <td>24.9001</td>\n",
              "      <td>143.7601</td>\n",
              "    </tr>\n",
              "    <tr>\n",
              "      <th>length_2</th>\n",
              "      <td>15861.0</td>\n",
              "      <td>14832.841876</td>\n",
              "      <td>9393.431996</td>\n",
              "      <td>2116.0000</td>\n",
              "      <td>6561.0000</td>\n",
              "      <td>12996.0000</td>\n",
              "      <td>21904.0000</td>\n",
              "      <td>34225.0000</td>\n",
              "    </tr>\n",
              "    <tr>\n",
              "      <th>rental_rate_2</th>\n",
              "      <td>15861.0</td>\n",
              "      <td>11.389287</td>\n",
              "      <td>10.005293</td>\n",
              "      <td>0.9801</td>\n",
              "      <td>0.9801</td>\n",
              "      <td>8.9401</td>\n",
              "      <td>24.9001</td>\n",
              "      <td>24.9001</td>\n",
              "    </tr>\n",
              "    <tr>\n",
              "      <th>rental_length_days</th>\n",
              "      <td>15861.0</td>\n",
              "      <td>4.525944</td>\n",
              "      <td>2.635108</td>\n",
              "      <td>0.0000</td>\n",
              "      <td>2.0000</td>\n",
              "      <td>5.0000</td>\n",
              "      <td>7.0000</td>\n",
              "      <td>9.0000</td>\n",
              "    </tr>\n",
              "  </tbody>\n",
              "</table>\n",
              "</div>\n",
              "    <div class=\"colab-df-buttons\">\n",
              "\n",
              "  <div class=\"colab-df-container\">\n",
              "    <button class=\"colab-df-convert\" onclick=\"convertToInteractive('df-ab066afd-4b51-43ff-8712-5b0f90547888')\"\n",
              "            title=\"Convert this dataframe to an interactive table.\"\n",
              "            style=\"display:none;\">\n",
              "\n",
              "  <svg xmlns=\"http://www.w3.org/2000/svg\" height=\"24px\" viewBox=\"0 -960 960 960\">\n",
              "    <path d=\"M120-120v-720h720v720H120Zm60-500h600v-160H180v160Zm220 220h160v-160H400v160Zm0 220h160v-160H400v160ZM180-400h160v-160H180v160Zm440 0h160v-160H620v160ZM180-180h160v-160H180v160Zm440 0h160v-160H620v160Z\"/>\n",
              "  </svg>\n",
              "    </button>\n",
              "\n",
              "  <style>\n",
              "    .colab-df-container {\n",
              "      display:flex;\n",
              "      gap: 12px;\n",
              "    }\n",
              "\n",
              "    .colab-df-convert {\n",
              "      background-color: #E8F0FE;\n",
              "      border: none;\n",
              "      border-radius: 50%;\n",
              "      cursor: pointer;\n",
              "      display: none;\n",
              "      fill: #1967D2;\n",
              "      height: 32px;\n",
              "      padding: 0 0 0 0;\n",
              "      width: 32px;\n",
              "    }\n",
              "\n",
              "    .colab-df-convert:hover {\n",
              "      background-color: #E2EBFA;\n",
              "      box-shadow: 0px 1px 2px rgba(60, 64, 67, 0.3), 0px 1px 3px 1px rgba(60, 64, 67, 0.15);\n",
              "      fill: #174EA6;\n",
              "    }\n",
              "\n",
              "    .colab-df-buttons div {\n",
              "      margin-bottom: 4px;\n",
              "    }\n",
              "\n",
              "    [theme=dark] .colab-df-convert {\n",
              "      background-color: #3B4455;\n",
              "      fill: #D2E3FC;\n",
              "    }\n",
              "\n",
              "    [theme=dark] .colab-df-convert:hover {\n",
              "      background-color: #434B5C;\n",
              "      box-shadow: 0px 1px 3px 1px rgba(0, 0, 0, 0.15);\n",
              "      filter: drop-shadow(0px 1px 2px rgba(0, 0, 0, 0.3));\n",
              "      fill: #FFFFFF;\n",
              "    }\n",
              "  </style>\n",
              "\n",
              "    <script>\n",
              "      const buttonEl =\n",
              "        document.querySelector('#df-ab066afd-4b51-43ff-8712-5b0f90547888 button.colab-df-convert');\n",
              "      buttonEl.style.display =\n",
              "        google.colab.kernel.accessAllowed ? 'block' : 'none';\n",
              "\n",
              "      async function convertToInteractive(key) {\n",
              "        const element = document.querySelector('#df-ab066afd-4b51-43ff-8712-5b0f90547888');\n",
              "        const dataTable =\n",
              "          await google.colab.kernel.invokeFunction('convertToInteractive',\n",
              "                                                    [key], {});\n",
              "        if (!dataTable) return;\n",
              "\n",
              "        const docLinkHtml = 'Like what you see? Visit the ' +\n",
              "          '<a target=\"_blank\" href=https://colab.research.google.com/notebooks/data_table.ipynb>data table notebook</a>'\n",
              "          + ' to learn more about interactive tables.';\n",
              "        element.innerHTML = '';\n",
              "        dataTable['output_type'] = 'display_data';\n",
              "        await google.colab.output.renderOutput(dataTable, element);\n",
              "        const docLink = document.createElement('div');\n",
              "        docLink.innerHTML = docLinkHtml;\n",
              "        element.appendChild(docLink);\n",
              "      }\n",
              "    </script>\n",
              "  </div>\n",
              "\n",
              "\n",
              "<div id=\"df-df524b45-0f68-4aa5-a37e-cea21e712655\">\n",
              "  <button class=\"colab-df-quickchart\" onclick=\"quickchart('df-df524b45-0f68-4aa5-a37e-cea21e712655')\"\n",
              "            title=\"Suggest charts\"\n",
              "            style=\"display:none;\">\n",
              "\n",
              "<svg xmlns=\"http://www.w3.org/2000/svg\" height=\"24px\"viewBox=\"0 0 24 24\"\n",
              "     width=\"24px\">\n",
              "    <g>\n",
              "        <path d=\"M19 3H5c-1.1 0-2 .9-2 2v14c0 1.1.9 2 2 2h14c1.1 0 2-.9 2-2V5c0-1.1-.9-2-2-2zM9 17H7v-7h2v7zm4 0h-2V7h2v10zm4 0h-2v-4h2v4z\"/>\n",
              "    </g>\n",
              "</svg>\n",
              "  </button>\n",
              "\n",
              "<style>\n",
              "  .colab-df-quickchart {\n",
              "      --bg-color: #E8F0FE;\n",
              "      --fill-color: #1967D2;\n",
              "      --hover-bg-color: #E2EBFA;\n",
              "      --hover-fill-color: #174EA6;\n",
              "      --disabled-fill-color: #AAA;\n",
              "      --disabled-bg-color: #DDD;\n",
              "  }\n",
              "\n",
              "  [theme=dark] .colab-df-quickchart {\n",
              "      --bg-color: #3B4455;\n",
              "      --fill-color: #D2E3FC;\n",
              "      --hover-bg-color: #434B5C;\n",
              "      --hover-fill-color: #FFFFFF;\n",
              "      --disabled-bg-color: #3B4455;\n",
              "      --disabled-fill-color: #666;\n",
              "  }\n",
              "\n",
              "  .colab-df-quickchart {\n",
              "    background-color: var(--bg-color);\n",
              "    border: none;\n",
              "    border-radius: 50%;\n",
              "    cursor: pointer;\n",
              "    display: none;\n",
              "    fill: var(--fill-color);\n",
              "    height: 32px;\n",
              "    padding: 0;\n",
              "    width: 32px;\n",
              "  }\n",
              "\n",
              "  .colab-df-quickchart:hover {\n",
              "    background-color: var(--hover-bg-color);\n",
              "    box-shadow: 0 1px 2px rgba(60, 64, 67, 0.3), 0 1px 3px 1px rgba(60, 64, 67, 0.15);\n",
              "    fill: var(--button-hover-fill-color);\n",
              "  }\n",
              "\n",
              "  .colab-df-quickchart-complete:disabled,\n",
              "  .colab-df-quickchart-complete:disabled:hover {\n",
              "    background-color: var(--disabled-bg-color);\n",
              "    fill: var(--disabled-fill-color);\n",
              "    box-shadow: none;\n",
              "  }\n",
              "\n",
              "  .colab-df-spinner {\n",
              "    border: 2px solid var(--fill-color);\n",
              "    border-color: transparent;\n",
              "    border-bottom-color: var(--fill-color);\n",
              "    animation:\n",
              "      spin 1s steps(1) infinite;\n",
              "  }\n",
              "\n",
              "  @keyframes spin {\n",
              "    0% {\n",
              "      border-color: transparent;\n",
              "      border-bottom-color: var(--fill-color);\n",
              "      border-left-color: var(--fill-color);\n",
              "    }\n",
              "    20% {\n",
              "      border-color: transparent;\n",
              "      border-left-color: var(--fill-color);\n",
              "      border-top-color: var(--fill-color);\n",
              "    }\n",
              "    30% {\n",
              "      border-color: transparent;\n",
              "      border-left-color: var(--fill-color);\n",
              "      border-top-color: var(--fill-color);\n",
              "      border-right-color: var(--fill-color);\n",
              "    }\n",
              "    40% {\n",
              "      border-color: transparent;\n",
              "      border-right-color: var(--fill-color);\n",
              "      border-top-color: var(--fill-color);\n",
              "    }\n",
              "    60% {\n",
              "      border-color: transparent;\n",
              "      border-right-color: var(--fill-color);\n",
              "    }\n",
              "    80% {\n",
              "      border-color: transparent;\n",
              "      border-right-color: var(--fill-color);\n",
              "      border-bottom-color: var(--fill-color);\n",
              "    }\n",
              "    90% {\n",
              "      border-color: transparent;\n",
              "      border-bottom-color: var(--fill-color);\n",
              "    }\n",
              "  }\n",
              "</style>\n",
              "\n",
              "  <script>\n",
              "    async function quickchart(key) {\n",
              "      const quickchartButtonEl =\n",
              "        document.querySelector('#' + key + ' button');\n",
              "      quickchartButtonEl.disabled = true;  // To prevent multiple clicks.\n",
              "      quickchartButtonEl.classList.add('colab-df-spinner');\n",
              "      try {\n",
              "        const charts = await google.colab.kernel.invokeFunction(\n",
              "            'suggestCharts', [key], {});\n",
              "      } catch (error) {\n",
              "        console.error('Error during call to suggestCharts:', error);\n",
              "      }\n",
              "      quickchartButtonEl.classList.remove('colab-df-spinner');\n",
              "      quickchartButtonEl.classList.add('colab-df-quickchart-complete');\n",
              "    }\n",
              "    (() => {\n",
              "      let quickchartButtonEl =\n",
              "        document.querySelector('#df-df524b45-0f68-4aa5-a37e-cea21e712655 button');\n",
              "      quickchartButtonEl.style.display =\n",
              "        google.colab.kernel.accessAllowed ? 'block' : 'none';\n",
              "    })();\n",
              "  </script>\n",
              "</div>\n",
              "\n",
              "    </div>\n",
              "  </div>\n"
            ],
            "application/vnd.google.colaboratory.intrinsic+json": {
              "type": "dataframe",
              "summary": "{\n  \"name\": \"df[numerical]\",\n  \"rows\": 8,\n  \"fields\": [\n    {\n      \"column\": \"count\",\n      \"properties\": {\n        \"dtype\": \"number\",\n        \"std\": 0.0,\n        \"min\": 15861.0,\n        \"max\": 15861.0,\n        \"num_unique_values\": 1,\n        \"samples\": [\n          15861.0\n        ],\n        \"semantic_type\": \"\",\n        \"description\": \"\"\n      }\n    },\n    {\n      \"column\": \"mean\",\n      \"properties\": {\n        \"dtype\": \"number\",\n        \"std\": 5235.15830537265,\n        \"min\": 2.944101254649771,\n        \"max\": 14832.84187630036,\n        \"num_unique_values\": 8,\n        \"samples\": [\n          2.944101254649771\n        ],\n        \"semantic_type\": \"\",\n        \"description\": \"\"\n      }\n    },\n    {\n      \"column\": \"std\",\n      \"properties\": {\n        \"dtype\": \"number\",\n        \"std\": 3316.7451777947635,\n        \"min\": 1.649765654828059,\n        \"max\": 9393.431995680117,\n        \"num_unique_values\": 8,\n        \"samples\": [\n          1.649765654828059\n        ],\n        \"semantic_type\": \"\",\n        \"description\": \"\"\n      }\n    },\n    {\n      \"column\": \"min\",\n      \"properties\": {\n        \"dtype\": \"number\",\n        \"std\": 745.2556274846728,\n        \"min\": 0.0,\n        \"max\": 2116.0,\n        \"num_unique_values\": 6,\n        \"samples\": [\n          0.99\n        ],\n        \"semantic_type\": \"\",\n        \"description\": \"\"\n      }\n    },\n    {\n      \"column\": \"25%\",\n      \"properties\": {\n        \"dtype\": \"number\",\n        \"std\": 2314.169661443758,\n        \"min\": 0.9801,\n        \"max\": 6561.0,\n        \"num_unique_values\": 8,\n        \"samples\": [\n          0.99\n        ],\n        \"semantic_type\": \"\",\n        \"description\": \"\"\n      }\n    },\n    {\n      \"column\": \"50%\",\n      \"properties\": {\n        \"dtype\": \"number\",\n        \"std\": 4586.250675244556,\n        \"min\": 2.99,\n        \"max\": 12996.0,\n        \"num_unique_values\": 8,\n        \"samples\": [\n          2.99\n        ],\n        \"semantic_type\": \"\",\n        \"description\": \"\"\n      }\n    },\n    {\n      \"column\": \"75%\",\n      \"properties\": {\n        \"dtype\": \"number\",\n        \"std\": 7732.217187187912,\n        \"min\": 4.99,\n        \"max\": 21904.0,\n        \"num_unique_values\": 6,\n        \"samples\": [\n          4.99\n        ],\n        \"semantic_type\": \"\",\n        \"description\": \"\"\n      }\n    },\n    {\n      \"column\": \"max\",\n      \"properties\": {\n        \"dtype\": \"number\",\n        \"std\": 12079.86864229248,\n        \"min\": 4.99,\n        \"max\": 34225.0,\n        \"num_unique_values\": 8,\n        \"samples\": [\n          4.99\n        ],\n        \"semantic_type\": \"\",\n        \"description\": \"\"\n      }\n    }\n  ]\n}"
            }
          },
          "metadata": {},
          "execution_count": 15
        }
      ]
    },
    {
      "cell_type": "code",
      "source": [
        "df.corr()"
      ],
      "metadata": {
        "colab": {
          "base_uri": "https://localhost:8080/",
          "height": 512
        },
        "id": "Xx3qFLJ1uiax",
        "outputId": "b3555982-7b73-479d-e08f-f498d9a892e1"
      },
      "id": "Xx3qFLJ1uiax",
      "execution_count": 16,
      "outputs": [
        {
          "output_type": "stream",
          "name": "stderr",
          "text": [
            "<ipython-input-16-2f6f6606aa2c>:1: FutureWarning: The default value of numeric_only in DataFrame.corr is deprecated. In a future version, it will default to False. Select only valid columns or specify the value of numeric_only to silence this warning.\n",
            "  df.corr()\n"
          ]
        },
        {
          "output_type": "execute_result",
          "data": {
            "text/plain": [
              "                      amount  release_year  rental_rate    length  \\\n",
              "amount              1.000000      0.021726     0.685870  0.018947   \n",
              "release_year        0.021726      1.000000     0.037304  0.031088   \n",
              "rental_rate         0.685870      0.037304     1.000000  0.055224   \n",
              "length              0.018947      0.031088     0.055224  1.000000   \n",
              "replacement_cost   -0.026725      0.069991    -0.064787  0.026976   \n",
              "NC-17               0.003968      0.027187     0.036280 -0.030133   \n",
              "PG                 -0.010591     -0.022237     0.000174 -0.049304   \n",
              "PG-13               0.012773      0.027442     0.022812  0.057023   \n",
              "R                  -0.007029     -0.052645    -0.033648  0.068685   \n",
              "amount_2            0.956141      0.015941     0.587627  0.015765   \n",
              "length_2            0.017864      0.030640     0.053390  0.987667   \n",
              "rental_rate_2       0.678597      0.025106     0.982489  0.051516   \n",
              "rental_length_days  0.551593      0.007044    -0.001060 -0.004547   \n",
              "\n",
              "                    replacement_cost     NC-17        PG     PG-13         R  \\\n",
              "amount                     -0.026725  0.003968 -0.010591  0.012773 -0.007029   \n",
              "release_year                0.069991  0.027187 -0.022237  0.027442 -0.052645   \n",
              "rental_rate                -0.064787  0.036280  0.000174  0.022812 -0.033648   \n",
              "length                      0.026976 -0.030133 -0.049304  0.057023  0.068685   \n",
              "replacement_cost            1.000000 -0.001685 -0.077158  0.044224  0.017768   \n",
              "NC-17                      -0.001685  1.000000 -0.254017 -0.272206 -0.252767   \n",
              "PG                         -0.077158 -0.254017  1.000000 -0.268408 -0.249240   \n",
              "PG-13                       0.044224 -0.272206 -0.268408  1.000000 -0.267087   \n",
              "R                           0.017768 -0.252767 -0.249240 -0.267087  1.000000   \n",
              "amount_2                   -0.018281  0.001186 -0.012859  0.008954 -0.004797   \n",
              "length_2                    0.029747 -0.029444 -0.053299  0.062629  0.059310   \n",
              "rental_rate_2              -0.065835  0.038815 -0.001420  0.022525 -0.033067   \n",
              "rental_length_days          0.015684  0.000783 -0.008066  0.010201 -0.007961   \n",
              "\n",
              "                    amount_2  length_2  rental_rate_2  rental_length_days  \n",
              "amount              0.956141  0.017864       0.678597            0.551593  \n",
              "release_year        0.015941  0.030640       0.025106            0.007044  \n",
              "rental_rate         0.587627  0.053390       0.982489           -0.001060  \n",
              "length              0.015765  0.987667       0.051516           -0.004547  \n",
              "replacement_cost   -0.018281  0.029747      -0.065835            0.015684  \n",
              "NC-17               0.001186 -0.029444       0.038815            0.000783  \n",
              "PG                 -0.012859 -0.053299      -0.001420           -0.008066  \n",
              "PG-13               0.008954  0.062629       0.022525            0.010201  \n",
              "R                  -0.004797  0.059310      -0.033067           -0.007961  \n",
              "amount_2            1.000000  0.014662       0.596622            0.549412  \n",
              "length_2            0.014662  1.000000       0.050140           -0.004792  \n",
              "rental_rate_2       0.596622  0.050140       1.000000           -0.001258  \n",
              "rental_length_days  0.549412 -0.004792      -0.001258            1.000000  "
            ],
            "text/html": [
              "\n",
              "  <div id=\"df-c8e1900a-4e4e-4807-b827-4813469828e3\" class=\"colab-df-container\">\n",
              "    <div>\n",
              "<style scoped>\n",
              "    .dataframe tbody tr th:only-of-type {\n",
              "        vertical-align: middle;\n",
              "    }\n",
              "\n",
              "    .dataframe tbody tr th {\n",
              "        vertical-align: top;\n",
              "    }\n",
              "\n",
              "    .dataframe thead th {\n",
              "        text-align: right;\n",
              "    }\n",
              "</style>\n",
              "<table border=\"1\" class=\"dataframe\">\n",
              "  <thead>\n",
              "    <tr style=\"text-align: right;\">\n",
              "      <th></th>\n",
              "      <th>amount</th>\n",
              "      <th>release_year</th>\n",
              "      <th>rental_rate</th>\n",
              "      <th>length</th>\n",
              "      <th>replacement_cost</th>\n",
              "      <th>NC-17</th>\n",
              "      <th>PG</th>\n",
              "      <th>PG-13</th>\n",
              "      <th>R</th>\n",
              "      <th>amount_2</th>\n",
              "      <th>length_2</th>\n",
              "      <th>rental_rate_2</th>\n",
              "      <th>rental_length_days</th>\n",
              "    </tr>\n",
              "  </thead>\n",
              "  <tbody>\n",
              "    <tr>\n",
              "      <th>amount</th>\n",
              "      <td>1.000000</td>\n",
              "      <td>0.021726</td>\n",
              "      <td>0.685870</td>\n",
              "      <td>0.018947</td>\n",
              "      <td>-0.026725</td>\n",
              "      <td>0.003968</td>\n",
              "      <td>-0.010591</td>\n",
              "      <td>0.012773</td>\n",
              "      <td>-0.007029</td>\n",
              "      <td>0.956141</td>\n",
              "      <td>0.017864</td>\n",
              "      <td>0.678597</td>\n",
              "      <td>0.551593</td>\n",
              "    </tr>\n",
              "    <tr>\n",
              "      <th>release_year</th>\n",
              "      <td>0.021726</td>\n",
              "      <td>1.000000</td>\n",
              "      <td>0.037304</td>\n",
              "      <td>0.031088</td>\n",
              "      <td>0.069991</td>\n",
              "      <td>0.027187</td>\n",
              "      <td>-0.022237</td>\n",
              "      <td>0.027442</td>\n",
              "      <td>-0.052645</td>\n",
              "      <td>0.015941</td>\n",
              "      <td>0.030640</td>\n",
              "      <td>0.025106</td>\n",
              "      <td>0.007044</td>\n",
              "    </tr>\n",
              "    <tr>\n",
              "      <th>rental_rate</th>\n",
              "      <td>0.685870</td>\n",
              "      <td>0.037304</td>\n",
              "      <td>1.000000</td>\n",
              "      <td>0.055224</td>\n",
              "      <td>-0.064787</td>\n",
              "      <td>0.036280</td>\n",
              "      <td>0.000174</td>\n",
              "      <td>0.022812</td>\n",
              "      <td>-0.033648</td>\n",
              "      <td>0.587627</td>\n",
              "      <td>0.053390</td>\n",
              "      <td>0.982489</td>\n",
              "      <td>-0.001060</td>\n",
              "    </tr>\n",
              "    <tr>\n",
              "      <th>length</th>\n",
              "      <td>0.018947</td>\n",
              "      <td>0.031088</td>\n",
              "      <td>0.055224</td>\n",
              "      <td>1.000000</td>\n",
              "      <td>0.026976</td>\n",
              "      <td>-0.030133</td>\n",
              "      <td>-0.049304</td>\n",
              "      <td>0.057023</td>\n",
              "      <td>0.068685</td>\n",
              "      <td>0.015765</td>\n",
              "      <td>0.987667</td>\n",
              "      <td>0.051516</td>\n",
              "      <td>-0.004547</td>\n",
              "    </tr>\n",
              "    <tr>\n",
              "      <th>replacement_cost</th>\n",
              "      <td>-0.026725</td>\n",
              "      <td>0.069991</td>\n",
              "      <td>-0.064787</td>\n",
              "      <td>0.026976</td>\n",
              "      <td>1.000000</td>\n",
              "      <td>-0.001685</td>\n",
              "      <td>-0.077158</td>\n",
              "      <td>0.044224</td>\n",
              "      <td>0.017768</td>\n",
              "      <td>-0.018281</td>\n",
              "      <td>0.029747</td>\n",
              "      <td>-0.065835</td>\n",
              "      <td>0.015684</td>\n",
              "    </tr>\n",
              "    <tr>\n",
              "      <th>NC-17</th>\n",
              "      <td>0.003968</td>\n",
              "      <td>0.027187</td>\n",
              "      <td>0.036280</td>\n",
              "      <td>-0.030133</td>\n",
              "      <td>-0.001685</td>\n",
              "      <td>1.000000</td>\n",
              "      <td>-0.254017</td>\n",
              "      <td>-0.272206</td>\n",
              "      <td>-0.252767</td>\n",
              "      <td>0.001186</td>\n",
              "      <td>-0.029444</td>\n",
              "      <td>0.038815</td>\n",
              "      <td>0.000783</td>\n",
              "    </tr>\n",
              "    <tr>\n",
              "      <th>PG</th>\n",
              "      <td>-0.010591</td>\n",
              "      <td>-0.022237</td>\n",
              "      <td>0.000174</td>\n",
              "      <td>-0.049304</td>\n",
              "      <td>-0.077158</td>\n",
              "      <td>-0.254017</td>\n",
              "      <td>1.000000</td>\n",
              "      <td>-0.268408</td>\n",
              "      <td>-0.249240</td>\n",
              "      <td>-0.012859</td>\n",
              "      <td>-0.053299</td>\n",
              "      <td>-0.001420</td>\n",
              "      <td>-0.008066</td>\n",
              "    </tr>\n",
              "    <tr>\n",
              "      <th>PG-13</th>\n",
              "      <td>0.012773</td>\n",
              "      <td>0.027442</td>\n",
              "      <td>0.022812</td>\n",
              "      <td>0.057023</td>\n",
              "      <td>0.044224</td>\n",
              "      <td>-0.272206</td>\n",
              "      <td>-0.268408</td>\n",
              "      <td>1.000000</td>\n",
              "      <td>-0.267087</td>\n",
              "      <td>0.008954</td>\n",
              "      <td>0.062629</td>\n",
              "      <td>0.022525</td>\n",
              "      <td>0.010201</td>\n",
              "    </tr>\n",
              "    <tr>\n",
              "      <th>R</th>\n",
              "      <td>-0.007029</td>\n",
              "      <td>-0.052645</td>\n",
              "      <td>-0.033648</td>\n",
              "      <td>0.068685</td>\n",
              "      <td>0.017768</td>\n",
              "      <td>-0.252767</td>\n",
              "      <td>-0.249240</td>\n",
              "      <td>-0.267087</td>\n",
              "      <td>1.000000</td>\n",
              "      <td>-0.004797</td>\n",
              "      <td>0.059310</td>\n",
              "      <td>-0.033067</td>\n",
              "      <td>-0.007961</td>\n",
              "    </tr>\n",
              "    <tr>\n",
              "      <th>amount_2</th>\n",
              "      <td>0.956141</td>\n",
              "      <td>0.015941</td>\n",
              "      <td>0.587627</td>\n",
              "      <td>0.015765</td>\n",
              "      <td>-0.018281</td>\n",
              "      <td>0.001186</td>\n",
              "      <td>-0.012859</td>\n",
              "      <td>0.008954</td>\n",
              "      <td>-0.004797</td>\n",
              "      <td>1.000000</td>\n",
              "      <td>0.014662</td>\n",
              "      <td>0.596622</td>\n",
              "      <td>0.549412</td>\n",
              "    </tr>\n",
              "    <tr>\n",
              "      <th>length_2</th>\n",
              "      <td>0.017864</td>\n",
              "      <td>0.030640</td>\n",
              "      <td>0.053390</td>\n",
              "      <td>0.987667</td>\n",
              "      <td>0.029747</td>\n",
              "      <td>-0.029444</td>\n",
              "      <td>-0.053299</td>\n",
              "      <td>0.062629</td>\n",
              "      <td>0.059310</td>\n",
              "      <td>0.014662</td>\n",
              "      <td>1.000000</td>\n",
              "      <td>0.050140</td>\n",
              "      <td>-0.004792</td>\n",
              "    </tr>\n",
              "    <tr>\n",
              "      <th>rental_rate_2</th>\n",
              "      <td>0.678597</td>\n",
              "      <td>0.025106</td>\n",
              "      <td>0.982489</td>\n",
              "      <td>0.051516</td>\n",
              "      <td>-0.065835</td>\n",
              "      <td>0.038815</td>\n",
              "      <td>-0.001420</td>\n",
              "      <td>0.022525</td>\n",
              "      <td>-0.033067</td>\n",
              "      <td>0.596622</td>\n",
              "      <td>0.050140</td>\n",
              "      <td>1.000000</td>\n",
              "      <td>-0.001258</td>\n",
              "    </tr>\n",
              "    <tr>\n",
              "      <th>rental_length_days</th>\n",
              "      <td>0.551593</td>\n",
              "      <td>0.007044</td>\n",
              "      <td>-0.001060</td>\n",
              "      <td>-0.004547</td>\n",
              "      <td>0.015684</td>\n",
              "      <td>0.000783</td>\n",
              "      <td>-0.008066</td>\n",
              "      <td>0.010201</td>\n",
              "      <td>-0.007961</td>\n",
              "      <td>0.549412</td>\n",
              "      <td>-0.004792</td>\n",
              "      <td>-0.001258</td>\n",
              "      <td>1.000000</td>\n",
              "    </tr>\n",
              "  </tbody>\n",
              "</table>\n",
              "</div>\n",
              "    <div class=\"colab-df-buttons\">\n",
              "\n",
              "  <div class=\"colab-df-container\">\n",
              "    <button class=\"colab-df-convert\" onclick=\"convertToInteractive('df-c8e1900a-4e4e-4807-b827-4813469828e3')\"\n",
              "            title=\"Convert this dataframe to an interactive table.\"\n",
              "            style=\"display:none;\">\n",
              "\n",
              "  <svg xmlns=\"http://www.w3.org/2000/svg\" height=\"24px\" viewBox=\"0 -960 960 960\">\n",
              "    <path d=\"M120-120v-720h720v720H120Zm60-500h600v-160H180v160Zm220 220h160v-160H400v160Zm0 220h160v-160H400v160ZM180-400h160v-160H180v160Zm440 0h160v-160H620v160ZM180-180h160v-160H180v160Zm440 0h160v-160H620v160Z\"/>\n",
              "  </svg>\n",
              "    </button>\n",
              "\n",
              "  <style>\n",
              "    .colab-df-container {\n",
              "      display:flex;\n",
              "      gap: 12px;\n",
              "    }\n",
              "\n",
              "    .colab-df-convert {\n",
              "      background-color: #E8F0FE;\n",
              "      border: none;\n",
              "      border-radius: 50%;\n",
              "      cursor: pointer;\n",
              "      display: none;\n",
              "      fill: #1967D2;\n",
              "      height: 32px;\n",
              "      padding: 0 0 0 0;\n",
              "      width: 32px;\n",
              "    }\n",
              "\n",
              "    .colab-df-convert:hover {\n",
              "      background-color: #E2EBFA;\n",
              "      box-shadow: 0px 1px 2px rgba(60, 64, 67, 0.3), 0px 1px 3px 1px rgba(60, 64, 67, 0.15);\n",
              "      fill: #174EA6;\n",
              "    }\n",
              "\n",
              "    .colab-df-buttons div {\n",
              "      margin-bottom: 4px;\n",
              "    }\n",
              "\n",
              "    [theme=dark] .colab-df-convert {\n",
              "      background-color: #3B4455;\n",
              "      fill: #D2E3FC;\n",
              "    }\n",
              "\n",
              "    [theme=dark] .colab-df-convert:hover {\n",
              "      background-color: #434B5C;\n",
              "      box-shadow: 0px 1px 3px 1px rgba(0, 0, 0, 0.15);\n",
              "      filter: drop-shadow(0px 1px 2px rgba(0, 0, 0, 0.3));\n",
              "      fill: #FFFFFF;\n",
              "    }\n",
              "  </style>\n",
              "\n",
              "    <script>\n",
              "      const buttonEl =\n",
              "        document.querySelector('#df-c8e1900a-4e4e-4807-b827-4813469828e3 button.colab-df-convert');\n",
              "      buttonEl.style.display =\n",
              "        google.colab.kernel.accessAllowed ? 'block' : 'none';\n",
              "\n",
              "      async function convertToInteractive(key) {\n",
              "        const element = document.querySelector('#df-c8e1900a-4e4e-4807-b827-4813469828e3');\n",
              "        const dataTable =\n",
              "          await google.colab.kernel.invokeFunction('convertToInteractive',\n",
              "                                                    [key], {});\n",
              "        if (!dataTable) return;\n",
              "\n",
              "        const docLinkHtml = 'Like what you see? Visit the ' +\n",
              "          '<a target=\"_blank\" href=https://colab.research.google.com/notebooks/data_table.ipynb>data table notebook</a>'\n",
              "          + ' to learn more about interactive tables.';\n",
              "        element.innerHTML = '';\n",
              "        dataTable['output_type'] = 'display_data';\n",
              "        await google.colab.output.renderOutput(dataTable, element);\n",
              "        const docLink = document.createElement('div');\n",
              "        docLink.innerHTML = docLinkHtml;\n",
              "        element.appendChild(docLink);\n",
              "      }\n",
              "    </script>\n",
              "  </div>\n",
              "\n",
              "\n",
              "<div id=\"df-3405379d-477e-4dce-8ccb-ca704da41b73\">\n",
              "  <button class=\"colab-df-quickchart\" onclick=\"quickchart('df-3405379d-477e-4dce-8ccb-ca704da41b73')\"\n",
              "            title=\"Suggest charts\"\n",
              "            style=\"display:none;\">\n",
              "\n",
              "<svg xmlns=\"http://www.w3.org/2000/svg\" height=\"24px\"viewBox=\"0 0 24 24\"\n",
              "     width=\"24px\">\n",
              "    <g>\n",
              "        <path d=\"M19 3H5c-1.1 0-2 .9-2 2v14c0 1.1.9 2 2 2h14c1.1 0 2-.9 2-2V5c0-1.1-.9-2-2-2zM9 17H7v-7h2v7zm4 0h-2V7h2v10zm4 0h-2v-4h2v4z\"/>\n",
              "    </g>\n",
              "</svg>\n",
              "  </button>\n",
              "\n",
              "<style>\n",
              "  .colab-df-quickchart {\n",
              "      --bg-color: #E8F0FE;\n",
              "      --fill-color: #1967D2;\n",
              "      --hover-bg-color: #E2EBFA;\n",
              "      --hover-fill-color: #174EA6;\n",
              "      --disabled-fill-color: #AAA;\n",
              "      --disabled-bg-color: #DDD;\n",
              "  }\n",
              "\n",
              "  [theme=dark] .colab-df-quickchart {\n",
              "      --bg-color: #3B4455;\n",
              "      --fill-color: #D2E3FC;\n",
              "      --hover-bg-color: #434B5C;\n",
              "      --hover-fill-color: #FFFFFF;\n",
              "      --disabled-bg-color: #3B4455;\n",
              "      --disabled-fill-color: #666;\n",
              "  }\n",
              "\n",
              "  .colab-df-quickchart {\n",
              "    background-color: var(--bg-color);\n",
              "    border: none;\n",
              "    border-radius: 50%;\n",
              "    cursor: pointer;\n",
              "    display: none;\n",
              "    fill: var(--fill-color);\n",
              "    height: 32px;\n",
              "    padding: 0;\n",
              "    width: 32px;\n",
              "  }\n",
              "\n",
              "  .colab-df-quickchart:hover {\n",
              "    background-color: var(--hover-bg-color);\n",
              "    box-shadow: 0 1px 2px rgba(60, 64, 67, 0.3), 0 1px 3px 1px rgba(60, 64, 67, 0.15);\n",
              "    fill: var(--button-hover-fill-color);\n",
              "  }\n",
              "\n",
              "  .colab-df-quickchart-complete:disabled,\n",
              "  .colab-df-quickchart-complete:disabled:hover {\n",
              "    background-color: var(--disabled-bg-color);\n",
              "    fill: var(--disabled-fill-color);\n",
              "    box-shadow: none;\n",
              "  }\n",
              "\n",
              "  .colab-df-spinner {\n",
              "    border: 2px solid var(--fill-color);\n",
              "    border-color: transparent;\n",
              "    border-bottom-color: var(--fill-color);\n",
              "    animation:\n",
              "      spin 1s steps(1) infinite;\n",
              "  }\n",
              "\n",
              "  @keyframes spin {\n",
              "    0% {\n",
              "      border-color: transparent;\n",
              "      border-bottom-color: var(--fill-color);\n",
              "      border-left-color: var(--fill-color);\n",
              "    }\n",
              "    20% {\n",
              "      border-color: transparent;\n",
              "      border-left-color: var(--fill-color);\n",
              "      border-top-color: var(--fill-color);\n",
              "    }\n",
              "    30% {\n",
              "      border-color: transparent;\n",
              "      border-left-color: var(--fill-color);\n",
              "      border-top-color: var(--fill-color);\n",
              "      border-right-color: var(--fill-color);\n",
              "    }\n",
              "    40% {\n",
              "      border-color: transparent;\n",
              "      border-right-color: var(--fill-color);\n",
              "      border-top-color: var(--fill-color);\n",
              "    }\n",
              "    60% {\n",
              "      border-color: transparent;\n",
              "      border-right-color: var(--fill-color);\n",
              "    }\n",
              "    80% {\n",
              "      border-color: transparent;\n",
              "      border-right-color: var(--fill-color);\n",
              "      border-bottom-color: var(--fill-color);\n",
              "    }\n",
              "    90% {\n",
              "      border-color: transparent;\n",
              "      border-bottom-color: var(--fill-color);\n",
              "    }\n",
              "  }\n",
              "</style>\n",
              "\n",
              "  <script>\n",
              "    async function quickchart(key) {\n",
              "      const quickchartButtonEl =\n",
              "        document.querySelector('#' + key + ' button');\n",
              "      quickchartButtonEl.disabled = true;  // To prevent multiple clicks.\n",
              "      quickchartButtonEl.classList.add('colab-df-spinner');\n",
              "      try {\n",
              "        const charts = await google.colab.kernel.invokeFunction(\n",
              "            'suggestCharts', [key], {});\n",
              "      } catch (error) {\n",
              "        console.error('Error during call to suggestCharts:', error);\n",
              "      }\n",
              "      quickchartButtonEl.classList.remove('colab-df-spinner');\n",
              "      quickchartButtonEl.classList.add('colab-df-quickchart-complete');\n",
              "    }\n",
              "    (() => {\n",
              "      let quickchartButtonEl =\n",
              "        document.querySelector('#df-3405379d-477e-4dce-8ccb-ca704da41b73 button');\n",
              "      quickchartButtonEl.style.display =\n",
              "        google.colab.kernel.accessAllowed ? 'block' : 'none';\n",
              "    })();\n",
              "  </script>\n",
              "</div>\n",
              "\n",
              "    </div>\n",
              "  </div>\n"
            ],
            "application/vnd.google.colaboratory.intrinsic+json": {
              "type": "dataframe",
              "summary": "{\n  \"name\": \"df\",\n  \"rows\": 13,\n  \"fields\": [\n    {\n      \"column\": \"amount\",\n      \"properties\": {\n        \"dtype\": \"number\",\n        \"std\": 0.40617075973259165,\n        \"min\": -0.026725378706227095,\n        \"max\": 1.0,\n        \"num_unique_values\": 13,\n        \"samples\": [\n          0.6785966503683581,\n          0.9561414578665073,\n          1.0\n        ],\n        \"semantic_type\": \"\",\n        \"description\": \"\"\n      }\n    },\n    {\n      \"column\": \"release_year\",\n      \"properties\": {\n        \"dtype\": \"number\",\n        \"std\": 0.2738814950973546,\n        \"min\": -0.05264471196988513,\n        \"max\": 1.0,\n        \"num_unique_values\": 13,\n        \"samples\": [\n          0.025105628629585524,\n          0.01594077699813585,\n          0.021725588615748696\n        ],\n        \"semantic_type\": \"\",\n        \"description\": \"\"\n      }\n    },\n    {\n      \"column\": \"rental_rate\",\n      \"properties\": {\n        \"dtype\": \"number\",\n        \"std\": 0.4006421525737236,\n        \"min\": -0.06478743665334982,\n        \"max\": 1.0,\n        \"num_unique_values\": 13,\n        \"samples\": [\n          0.9824886973464388,\n          0.5876268481746443,\n          0.6858696443340362\n        ],\n        \"semantic_type\": \"\",\n        \"description\": \"\"\n      }\n    },\n    {\n      \"column\": \"length\",\n      \"properties\": {\n        \"dtype\": \"number\",\n        \"std\": 0.36659062880563964,\n        \"min\": -0.049303999541944026,\n        \"max\": 1.0,\n        \"num_unique_values\": 13,\n        \"samples\": [\n          0.0515164750543292,\n          0.01576513763207128,\n          0.018947278692579606\n        ],\n        \"semantic_type\": \"\",\n        \"description\": \"\"\n      }\n    },\n    {\n      \"column\": \"replacement_cost\",\n      \"properties\": {\n        \"dtype\": \"number\",\n        \"std\": 0.2821278898623402,\n        \"min\": -0.07715775952697285,\n        \"max\": 1.0,\n        \"num_unique_values\": 13,\n        \"samples\": [\n          -0.06583459876496095,\n          -0.018281297214183527,\n          -0.026725378706227095\n        ],\n        \"semantic_type\": \"\",\n        \"description\": \"\"\n      }\n    },\n    {\n      \"column\": \"NC-17\",\n      \"properties\": {\n        \"dtype\": \"number\",\n        \"std\": 0.3165367562570541,\n        \"min\": -0.2722064119033293,\n        \"max\": 1.0,\n        \"num_unique_values\": 13,\n        \"samples\": [\n          0.03881526308160185,\n          0.0011858970216423776,\n          0.003968101686782931\n        ],\n        \"semantic_type\": \"\",\n        \"description\": \"\"\n      }\n    },\n    {\n      \"column\": \"PG\",\n      \"properties\": {\n        \"dtype\": \"number\",\n        \"std\": 0.3176409615812983,\n        \"min\": -0.26840831583168345,\n        \"max\": 1.0,\n        \"num_unique_values\": 13,\n        \"samples\": [\n          -0.001420026360288798,\n          -0.012859409292310657,\n          -0.010591196973044111\n        ],\n        \"semantic_type\": \"\",\n        \"description\": \"\"\n      }\n    },\n    {\n      \"column\": \"PG-13\",\n      \"properties\": {\n        \"dtype\": \"number\",\n        \"std\": 0.3178565568748874,\n        \"min\": -0.2722064119033293,\n        \"max\": 1.0,\n        \"num_unique_values\": 13,\n        \"samples\": [\n          0.022525130031801018,\n          0.008954375093650546,\n          0.01277310952606462\n        ],\n        \"semantic_type\": \"\",\n        \"description\": \"\"\n      }\n    },\n    {\n      \"column\": \"R\",\n      \"properties\": {\n        \"dtype\": \"number\",\n        \"std\": 0.31710820349292007,\n        \"min\": -0.2670870866210151,\n        \"max\": 1.0,\n        \"num_unique_values\": 13,\n        \"samples\": [\n          -0.033067004871617865,\n          -0.004797347907289545,\n          -0.00702940605031471\n        ],\n        \"semantic_type\": \"\",\n        \"description\": \"\"\n      }\n    },\n    {\n      \"column\": \"amount_2\",\n      \"properties\": {\n        \"dtype\": \"number\",\n        \"std\": 0.39366400237305665,\n        \"min\": -0.018281297214183527,\n        \"max\": 1.0,\n        \"num_unique_values\": 13,\n        \"samples\": [\n          0.5966224903417138,\n          1.0,\n          0.9561414578665073\n        ],\n        \"semantic_type\": \"\",\n        \"description\": \"\"\n      }\n    },\n    {\n      \"column\": \"length_2\",\n      \"properties\": {\n        \"dtype\": \"number\",\n        \"std\": 0.3669444824845875,\n        \"min\": -0.053298500136962516,\n        \"max\": 1.0,\n        \"num_unique_values\": 13,\n        \"samples\": [\n          0.05014044662010476,\n          0.014661661623447146,\n          0.017864123407360766\n        ],\n        \"semantic_type\": \"\",\n        \"description\": \"\"\n      }\n    },\n    {\n      \"column\": \"rental_rate_2\",\n      \"properties\": {\n        \"dtype\": \"number\",\n        \"std\": 0.4015263303138298,\n        \"min\": -0.06583459876496095,\n        \"max\": 1.0,\n        \"num_unique_values\": 13,\n        \"samples\": [\n          1.0,\n          0.5966224903417138,\n          0.6785966503683581\n        ],\n        \"semantic_type\": \"\",\n        \"description\": \"\"\n      }\n    },\n    {\n      \"column\": \"rental_length_days\",\n      \"properties\": {\n        \"dtype\": \"number\",\n        \"std\": 0.3247020647325888,\n        \"min\": -0.008066208998055761,\n        \"max\": 1.0,\n        \"num_unique_values\": 13,\n        \"samples\": [\n          -0.0012579252354577672,\n          0.5494124392666707,\n          0.551593011792401\n        ],\n        \"semantic_type\": \"\",\n        \"description\": \"\"\n      }\n    }\n  ]\n}"
            }
          },
          "metadata": {},
          "execution_count": 16
        }
      ]
    },
    {
      "cell_type": "markdown",
      "source": [
        "Provided data use the same feature, just squared it.\n",
        "For model selection features can be used only one attribute\n",
        "rental rate and rental rate 2, amount and amount 2, lenghth and lenghth 2  are identical features. Thet are also highly correlated, it's important to choose only one of them to avoid multicollinearity issues in your model. Multicollinearity occurs when independent variables in a regression model are highly correlated with each other, which can lead to unstable estimates and difficulties in interpreting the model"
      ],
      "metadata": {
        "id": "erUjm0T-uvO8"
      },
      "id": "erUjm0T-uvO8"
    },
    {
      "cell_type": "code",
      "source": [
        "df['special_features'].value_counts()"
      ],
      "metadata": {
        "colab": {
          "base_uri": "https://localhost:8080/"
        },
        "id": "kHfpB08Fvu-v",
        "outputId": "6325709c-8c41-408d-aac4-1f0c88b12c54"
      },
      "id": "kHfpB08Fvu-v",
      "execution_count": 17,
      "outputs": [
        {
          "output_type": "execute_result",
          "data": {
            "text/plain": [
              "{Trailers,Commentaries,\"Behind the Scenes\"}                     1308\n",
              "{Trailers}                                                      1139\n",
              "{Trailers,Commentaries}                                         1129\n",
              "{Trailers,\"Behind the Scenes\"}                                  1122\n",
              "{\"Behind the Scenes\"}                                           1108\n",
              "{Commentaries,\"Deleted Scenes\",\"Behind the Scenes\"}             1101\n",
              "{Commentaries}                                                  1089\n",
              "{Commentaries,\"Behind the Scenes\"}                              1078\n",
              "{Trailers,\"Deleted Scenes\"}                                     1047\n",
              "{\"Deleted Scenes\",\"Behind the Scenes\"}                          1035\n",
              "{\"Deleted Scenes\"}                                              1023\n",
              "{Commentaries,\"Deleted Scenes\"}                                 1011\n",
              "{Trailers,Commentaries,\"Deleted Scenes\",\"Behind the Scenes\"}     983\n",
              "{Trailers,Commentaries,\"Deleted Scenes\"}                         916\n",
              "{Trailers,\"Deleted Scenes\",\"Behind the Scenes\"}                  772\n",
              "Name: special_features, dtype: int64"
            ]
          },
          "metadata": {},
          "execution_count": 17
        }
      ]
    },
    {
      "cell_type": "markdown",
      "source": [
        "Creating new columns behind the scenes and deleted scenes. I can then use these columns as features for machine learning model without the need for dummy variables as they encoded."
      ],
      "metadata": {
        "id": "5XCnRUkPwqTn"
      },
      "id": "5XCnRUkPwqTn"
    },
    {
      "cell_type": "code",
      "source": [
        "df['behind_the_scenes'] = df['special_features'].apply(lambda x: 1 if \"Behind the Scene\" in x else 0 )\n",
        "df['deleted_scenes'] = df['special_features'].apply(lambda x: 1 if 'Deleted Scenes' in x else 0)"
      ],
      "metadata": {
        "id": "ElZ0Uwtnwkx0"
      },
      "id": "ElZ0Uwtnwkx0",
      "execution_count": 18,
      "outputs": []
    },
    {
      "cell_type": "code",
      "source": [
        "df['behind_the_scenes'].value_counts()"
      ],
      "metadata": {
        "colab": {
          "base_uri": "https://localhost:8080/"
        },
        "id": "QBIFLU8lxlRb",
        "outputId": "c52381d3-e748-4870-f20e-f0c67d1c2500"
      },
      "id": "QBIFLU8lxlRb",
      "execution_count": 19,
      "outputs": [
        {
          "output_type": "execute_result",
          "data": {
            "text/plain": [
              "1    8507\n",
              "0    7354\n",
              "Name: behind_the_scenes, dtype: int64"
            ]
          },
          "metadata": {},
          "execution_count": 19
        }
      ]
    },
    {
      "cell_type": "code",
      "source": [
        "df['deleted_scenes'].value_counts()"
      ],
      "metadata": {
        "colab": {
          "base_uri": "https://localhost:8080/"
        },
        "id": "j_eMTbefxri0",
        "outputId": "4bfe3d2d-f251-4a43-af58-1aa90bf1fe50"
      },
      "id": "j_eMTbefxri0",
      "execution_count": 20,
      "outputs": [
        {
          "output_type": "execute_result",
          "data": {
            "text/plain": [
              "0    7973\n",
              "1    7888\n",
              "Name: deleted_scenes, dtype: int64"
            ]
          },
          "metadata": {},
          "execution_count": 20
        }
      ]
    },
    {
      "cell_type": "code",
      "source": [
        "X = df.drop(['rental_length_days', 'special_features', 'rental_date', 'return_date', 'amount_2', 'length_2', 'rental_rate_2'], axis =1)"
      ],
      "metadata": {
        "id": "jaBUjXP_y99o"
      },
      "id": "jaBUjXP_y99o",
      "execution_count": 21,
      "outputs": []
    },
    {
      "cell_type": "code",
      "source": [
        "y=df['rental_length_days']"
      ],
      "metadata": {
        "id": "O3YGNsS-zUg4"
      },
      "id": "O3YGNsS-zUg4",
      "execution_count": 22,
      "outputs": []
    },
    {
      "cell_type": "code",
      "source": [
        "X_train, X_test, y_train, y_test = train_test_split(X, y, test_size=0.2, random_state=9)"
      ],
      "metadata": {
        "id": "_NgdCVpUzZIW"
      },
      "id": "_NgdCVpUzZIW",
      "execution_count": 23,
      "outputs": []
    },
    {
      "cell_type": "code",
      "source": [
        "\n",
        "model = Lasso(alpha=0.3, random_state=9)\n",
        "model.fit(X_train, y_train)\n",
        "lasso_coef = model.coef_\n",
        "print(\"Coefficients:\", lasso_coef)"
      ],
      "metadata": {
        "colab": {
          "base_uri": "https://localhost:8080/"
        },
        "id": "NehcdxR2zmGA",
        "outputId": "e1aef93a-cba6-4205-dd9d-2eb4284e8508"
      },
      "id": "NehcdxR2zmGA",
      "execution_count": 24,
      "outputs": [
        {
          "output_type": "stream",
          "name": "stdout",
          "text": [
            "Coefficients: [ 9.62167821e-01  0.00000000e+00 -8.41179857e-01  4.94571646e-04\n",
            " -0.00000000e+00  0.00000000e+00  0.00000000e+00  0.00000000e+00\n",
            " -0.00000000e+00  0.00000000e+00 -0.00000000e+00]\n"
          ]
        }
      ]
    },
    {
      "cell_type": "code",
      "source": [
        "coefficients_df = pd.DataFrame({'Column Name': X_train.columns, 'Coefficient': lasso_coef})\n",
        "\n",
        "# Display the coefficients DataFrame\n",
        "print(coefficients_df)"
      ],
      "metadata": {
        "colab": {
          "base_uri": "https://localhost:8080/"
        },
        "id": "4ck7txit0dK4",
        "outputId": "7ea64b74-e70a-4819-e180-abad4affb990"
      },
      "id": "4ck7txit0dK4",
      "execution_count": 25,
      "outputs": [
        {
          "output_type": "stream",
          "name": "stdout",
          "text": [
            "          Column Name  Coefficient\n",
            "0              amount     0.962168\n",
            "1        release_year     0.000000\n",
            "2         rental_rate    -0.841180\n",
            "3              length     0.000495\n",
            "4    replacement_cost    -0.000000\n",
            "5               NC-17     0.000000\n",
            "6                  PG     0.000000\n",
            "7               PG-13     0.000000\n",
            "8                   R    -0.000000\n",
            "9   behind_the_scenes     0.000000\n",
            "10     deleted_scenes    -0.000000\n"
          ]
        }
      ]
    },
    {
      "cell_type": "markdown",
      "source": [
        "The Lasso (Least Absolute Shrinkage and Selection Operator) is a linear regression model regularized with an L1 penalty term. It is used for variable selection and regularization to prevent overfitting in high-dimensional datasets.\n",
        "\n",
        "The Lasso model includes a hyperparameter called alpha (α), which controls the strength of regularization. Increasing alpha leads to more regularization, which in turn leads to fewer features being selected by the mode"
      ],
      "metadata": {
        "id": "lnZzdME30EYL"
      },
      "id": "lnZzdME30EYL"
    },
    {
      "cell_type": "code",
      "source": [
        "# Perform feature selectino by choosing columns with positive coefficients\n",
        "X_lasso_train, X_lasso_test = X_train.iloc[:, lasso_coef > 0], X_test.iloc[:, lasso_coef > 0]"
      ],
      "metadata": {
        "id": "WIQXirNV1YzA"
      },
      "id": "WIQXirNV1YzA",
      "execution_count": 26,
      "outputs": []
    },
    {
      "cell_type": "code",
      "source": [
        "model1 = LinearRegression()\n",
        "model1.fit(X_lasso_train, y_train)"
      ],
      "metadata": {
        "colab": {
          "base_uri": "https://localhost:8080/",
          "height": 74
        },
        "id": "xu440xuO1fNu",
        "outputId": "3a0eed1a-3f69-42a8-83a1-8ef94fecfd95"
      },
      "id": "xu440xuO1fNu",
      "execution_count": 27,
      "outputs": [
        {
          "output_type": "execute_result",
          "data": {
            "text/plain": [
              "LinearRegression()"
            ],
            "text/html": [
              "<style>#sk-container-id-1 {color: black;background-color: white;}#sk-container-id-1 pre{padding: 0;}#sk-container-id-1 div.sk-toggleable {background-color: white;}#sk-container-id-1 label.sk-toggleable__label {cursor: pointer;display: block;width: 100%;margin-bottom: 0;padding: 0.3em;box-sizing: border-box;text-align: center;}#sk-container-id-1 label.sk-toggleable__label-arrow:before {content: \"▸\";float: left;margin-right: 0.25em;color: #696969;}#sk-container-id-1 label.sk-toggleable__label-arrow:hover:before {color: black;}#sk-container-id-1 div.sk-estimator:hover label.sk-toggleable__label-arrow:before {color: black;}#sk-container-id-1 div.sk-toggleable__content {max-height: 0;max-width: 0;overflow: hidden;text-align: left;background-color: #f0f8ff;}#sk-container-id-1 div.sk-toggleable__content pre {margin: 0.2em;color: black;border-radius: 0.25em;background-color: #f0f8ff;}#sk-container-id-1 input.sk-toggleable__control:checked~div.sk-toggleable__content {max-height: 200px;max-width: 100%;overflow: auto;}#sk-container-id-1 input.sk-toggleable__control:checked~label.sk-toggleable__label-arrow:before {content: \"▾\";}#sk-container-id-1 div.sk-estimator input.sk-toggleable__control:checked~label.sk-toggleable__label {background-color: #d4ebff;}#sk-container-id-1 div.sk-label input.sk-toggleable__control:checked~label.sk-toggleable__label {background-color: #d4ebff;}#sk-container-id-1 input.sk-hidden--visually {border: 0;clip: rect(1px 1px 1px 1px);clip: rect(1px, 1px, 1px, 1px);height: 1px;margin: -1px;overflow: hidden;padding: 0;position: absolute;width: 1px;}#sk-container-id-1 div.sk-estimator {font-family: monospace;background-color: #f0f8ff;border: 1px dotted black;border-radius: 0.25em;box-sizing: border-box;margin-bottom: 0.5em;}#sk-container-id-1 div.sk-estimator:hover {background-color: #d4ebff;}#sk-container-id-1 div.sk-parallel-item::after {content: \"\";width: 100%;border-bottom: 1px solid gray;flex-grow: 1;}#sk-container-id-1 div.sk-label:hover label.sk-toggleable__label {background-color: #d4ebff;}#sk-container-id-1 div.sk-serial::before {content: \"\";position: absolute;border-left: 1px solid gray;box-sizing: border-box;top: 0;bottom: 0;left: 50%;z-index: 0;}#sk-container-id-1 div.sk-serial {display: flex;flex-direction: column;align-items: center;background-color: white;padding-right: 0.2em;padding-left: 0.2em;position: relative;}#sk-container-id-1 div.sk-item {position: relative;z-index: 1;}#sk-container-id-1 div.sk-parallel {display: flex;align-items: stretch;justify-content: center;background-color: white;position: relative;}#sk-container-id-1 div.sk-item::before, #sk-container-id-1 div.sk-parallel-item::before {content: \"\";position: absolute;border-left: 1px solid gray;box-sizing: border-box;top: 0;bottom: 0;left: 50%;z-index: -1;}#sk-container-id-1 div.sk-parallel-item {display: flex;flex-direction: column;z-index: 1;position: relative;background-color: white;}#sk-container-id-1 div.sk-parallel-item:first-child::after {align-self: flex-end;width: 50%;}#sk-container-id-1 div.sk-parallel-item:last-child::after {align-self: flex-start;width: 50%;}#sk-container-id-1 div.sk-parallel-item:only-child::after {width: 0;}#sk-container-id-1 div.sk-dashed-wrapped {border: 1px dashed gray;margin: 0 0.4em 0.5em 0.4em;box-sizing: border-box;padding-bottom: 0.4em;background-color: white;}#sk-container-id-1 div.sk-label label {font-family: monospace;font-weight: bold;display: inline-block;line-height: 1.2em;}#sk-container-id-1 div.sk-label-container {text-align: center;}#sk-container-id-1 div.sk-container {/* jupyter's `normalize.less` sets `[hidden] { display: none; }` but bootstrap.min.css set `[hidden] { display: none !important; }` so we also need the `!important` here to be able to override the default hidden behavior on the sphinx rendered scikit-learn.org. See: https://github.com/scikit-learn/scikit-learn/issues/21755 */display: inline-block !important;position: relative;}#sk-container-id-1 div.sk-text-repr-fallback {display: none;}</style><div id=\"sk-container-id-1\" class=\"sk-top-container\"><div class=\"sk-text-repr-fallback\"><pre>LinearRegression()</pre><b>In a Jupyter environment, please rerun this cell to show the HTML representation or trust the notebook. <br />On GitHub, the HTML representation is unable to render, please try loading this page with nbviewer.org.</b></div><div class=\"sk-container\" hidden><div class=\"sk-item\"><div class=\"sk-estimator sk-toggleable\"><input class=\"sk-toggleable__control sk-hidden--visually\" id=\"sk-estimator-id-1\" type=\"checkbox\" checked><label for=\"sk-estimator-id-1\" class=\"sk-toggleable__label sk-toggleable__label-arrow\">LinearRegression</label><div class=\"sk-toggleable__content\"><pre>LinearRegression()</pre></div></div></div></div></div>"
            ]
          },
          "metadata": {},
          "execution_count": 27
        }
      ]
    },
    {
      "cell_type": "code",
      "source": [
        "r_squared_1 = model1.score(X_lasso_test, y_test)\n",
        "print(\"R-squared score:\", r_squared_1)"
      ],
      "metadata": {
        "colab": {
          "base_uri": "https://localhost:8080/"
        },
        "id": "iNseujkC121u",
        "outputId": "0e706999-eca3-4b35-d444-4e2fdacbe1e2"
      },
      "id": "iNseujkC121u",
      "execution_count": 28,
      "outputs": [
        {
          "output_type": "stream",
          "name": "stdout",
          "text": [
            "R-squared score: 0.31794186050284556\n"
          ]
        }
      ]
    },
    {
      "cell_type": "code",
      "source": [
        "y_pred1 = model1.predict(X_lasso_test)\n",
        "mse1= mean_squared_error(y_test, y_pred1)\n",
        "print(mse1)"
      ],
      "metadata": {
        "colab": {
          "base_uri": "https://localhost:8080/"
        },
        "id": "qPtAWpVu2L5m",
        "outputId": "cf836552-1df2-40e9-dd1a-3c4d4791b22b"
      },
      "id": "qPtAWpVu2L5m",
      "execution_count": 29,
      "outputs": [
        {
          "output_type": "stream",
          "name": "stdout",
          "text": [
            "4.842319865123174\n"
          ]
        }
      ]
    },
    {
      "cell_type": "code",
      "source": [
        "model2 = LinearRegression()"
      ],
      "metadata": {
        "id": "ZZkB6llz2rWR"
      },
      "id": "ZZkB6llz2rWR",
      "execution_count": 30,
      "outputs": []
    },
    {
      "cell_type": "code",
      "source": [
        "model2.fit(X_train, y_train)"
      ],
      "metadata": {
        "colab": {
          "base_uri": "https://localhost:8080/",
          "height": 74
        },
        "id": "d8puwqr526Ae",
        "outputId": "846e9606-95f2-46bc-be04-c7aafd202ca5"
      },
      "id": "d8puwqr526Ae",
      "execution_count": 31,
      "outputs": [
        {
          "output_type": "execute_result",
          "data": {
            "text/plain": [
              "LinearRegression()"
            ],
            "text/html": [
              "<style>#sk-container-id-2 {color: black;background-color: white;}#sk-container-id-2 pre{padding: 0;}#sk-container-id-2 div.sk-toggleable {background-color: white;}#sk-container-id-2 label.sk-toggleable__label {cursor: pointer;display: block;width: 100%;margin-bottom: 0;padding: 0.3em;box-sizing: border-box;text-align: center;}#sk-container-id-2 label.sk-toggleable__label-arrow:before {content: \"▸\";float: left;margin-right: 0.25em;color: #696969;}#sk-container-id-2 label.sk-toggleable__label-arrow:hover:before {color: black;}#sk-container-id-2 div.sk-estimator:hover label.sk-toggleable__label-arrow:before {color: black;}#sk-container-id-2 div.sk-toggleable__content {max-height: 0;max-width: 0;overflow: hidden;text-align: left;background-color: #f0f8ff;}#sk-container-id-2 div.sk-toggleable__content pre {margin: 0.2em;color: black;border-radius: 0.25em;background-color: #f0f8ff;}#sk-container-id-2 input.sk-toggleable__control:checked~div.sk-toggleable__content {max-height: 200px;max-width: 100%;overflow: auto;}#sk-container-id-2 input.sk-toggleable__control:checked~label.sk-toggleable__label-arrow:before {content: \"▾\";}#sk-container-id-2 div.sk-estimator input.sk-toggleable__control:checked~label.sk-toggleable__label {background-color: #d4ebff;}#sk-container-id-2 div.sk-label input.sk-toggleable__control:checked~label.sk-toggleable__label {background-color: #d4ebff;}#sk-container-id-2 input.sk-hidden--visually {border: 0;clip: rect(1px 1px 1px 1px);clip: rect(1px, 1px, 1px, 1px);height: 1px;margin: -1px;overflow: hidden;padding: 0;position: absolute;width: 1px;}#sk-container-id-2 div.sk-estimator {font-family: monospace;background-color: #f0f8ff;border: 1px dotted black;border-radius: 0.25em;box-sizing: border-box;margin-bottom: 0.5em;}#sk-container-id-2 div.sk-estimator:hover {background-color: #d4ebff;}#sk-container-id-2 div.sk-parallel-item::after {content: \"\";width: 100%;border-bottom: 1px solid gray;flex-grow: 1;}#sk-container-id-2 div.sk-label:hover label.sk-toggleable__label {background-color: #d4ebff;}#sk-container-id-2 div.sk-serial::before {content: \"\";position: absolute;border-left: 1px solid gray;box-sizing: border-box;top: 0;bottom: 0;left: 50%;z-index: 0;}#sk-container-id-2 div.sk-serial {display: flex;flex-direction: column;align-items: center;background-color: white;padding-right: 0.2em;padding-left: 0.2em;position: relative;}#sk-container-id-2 div.sk-item {position: relative;z-index: 1;}#sk-container-id-2 div.sk-parallel {display: flex;align-items: stretch;justify-content: center;background-color: white;position: relative;}#sk-container-id-2 div.sk-item::before, #sk-container-id-2 div.sk-parallel-item::before {content: \"\";position: absolute;border-left: 1px solid gray;box-sizing: border-box;top: 0;bottom: 0;left: 50%;z-index: -1;}#sk-container-id-2 div.sk-parallel-item {display: flex;flex-direction: column;z-index: 1;position: relative;background-color: white;}#sk-container-id-2 div.sk-parallel-item:first-child::after {align-self: flex-end;width: 50%;}#sk-container-id-2 div.sk-parallel-item:last-child::after {align-self: flex-start;width: 50%;}#sk-container-id-2 div.sk-parallel-item:only-child::after {width: 0;}#sk-container-id-2 div.sk-dashed-wrapped {border: 1px dashed gray;margin: 0 0.4em 0.5em 0.4em;box-sizing: border-box;padding-bottom: 0.4em;background-color: white;}#sk-container-id-2 div.sk-label label {font-family: monospace;font-weight: bold;display: inline-block;line-height: 1.2em;}#sk-container-id-2 div.sk-label-container {text-align: center;}#sk-container-id-2 div.sk-container {/* jupyter's `normalize.less` sets `[hidden] { display: none; }` but bootstrap.min.css set `[hidden] { display: none !important; }` so we also need the `!important` here to be able to override the default hidden behavior on the sphinx rendered scikit-learn.org. See: https://github.com/scikit-learn/scikit-learn/issues/21755 */display: inline-block !important;position: relative;}#sk-container-id-2 div.sk-text-repr-fallback {display: none;}</style><div id=\"sk-container-id-2\" class=\"sk-top-container\"><div class=\"sk-text-repr-fallback\"><pre>LinearRegression()</pre><b>In a Jupyter environment, please rerun this cell to show the HTML representation or trust the notebook. <br />On GitHub, the HTML representation is unable to render, please try loading this page with nbviewer.org.</b></div><div class=\"sk-container\" hidden><div class=\"sk-item\"><div class=\"sk-estimator sk-toggleable\"><input class=\"sk-toggleable__control sk-hidden--visually\" id=\"sk-estimator-id-2\" type=\"checkbox\" checked><label for=\"sk-estimator-id-2\" class=\"sk-toggleable__label sk-toggleable__label-arrow\">LinearRegression</label><div class=\"sk-toggleable__content\"><pre>LinearRegression()</pre></div></div></div></div></div>"
            ]
          },
          "metadata": {},
          "execution_count": 31
        }
      ]
    },
    {
      "cell_type": "code",
      "source": [
        "r_squared_2 = model2.score(X_test, y_test)\n",
        "print(r_squared_2)"
      ],
      "metadata": {
        "colab": {
          "base_uri": "https://localhost:8080/"
        },
        "id": "CoYgv_dU3Gv3",
        "outputId": "443918ae-acd5-4750-ce0e-3e1f96e7568e"
      },
      "id": "CoYgv_dU3Gv3",
      "execution_count": 32,
      "outputs": [
        {
          "output_type": "stream",
          "name": "stdout",
          "text": [
            "0.5753951653256832\n"
          ]
        }
      ]
    },
    {
      "cell_type": "code",
      "source": [
        "y_pred2 = model2.predict(X_test)\n",
        "mse2= mean_squared_error(y_test, y_pred2)\n",
        "print(mse2)"
      ],
      "metadata": {
        "colab": {
          "base_uri": "https://localhost:8080/"
        },
        "id": "NYAobtS13SZE",
        "outputId": "df6a16c6-8e95-406c-c5cc-6348d1dcf5e9"
      },
      "id": "NYAobtS13SZE",
      "execution_count": 33,
      "outputs": [
        {
          "output_type": "stream",
          "name": "stdout",
          "text": [
            "3.0145119700303256\n"
          ]
        }
      ]
    },
    {
      "cell_type": "markdown",
      "source": [
        "MAE and r2 shows better result"
      ],
      "metadata": {
        "id": "5J9_7ri83gta"
      },
      "id": "5J9_7ri83gta"
    },
    {
      "cell_type": "code",
      "source": [
        "model3 = DecisionTreeRegressor()\n",
        "model3.fit(X_train, y_train)\n",
        "r_squared_3 = model3.score(X_test, y_test)\n",
        "print('r2', r_squared_3)\n",
        "y_pred3 = model3.predict(X_test)\n",
        "mse3 = mean_squared_error(y_test, y_pred3)\n",
        "print('mse', mse3)"
      ],
      "metadata": {
        "colab": {
          "base_uri": "https://localhost:8080/"
        },
        "id": "0VDvtP9n3zBr",
        "outputId": "273b0d99-f886-4724-e8bf-0c65300f8569"
      },
      "id": "0VDvtP9n3zBr",
      "execution_count": 34,
      "outputs": [
        {
          "output_type": "stream",
          "name": "stdout",
          "text": [
            "r2 0.696193005367677\n",
            "mse 2.1568991850988746\n"
          ]
        }
      ]
    },
    {
      "cell_type": "code",
      "source": [
        "# Get feature importances\n",
        "feature_importances = model3.feature_importances_"
      ],
      "metadata": {
        "id": "WLfkGeYN4_mQ"
      },
      "id": "WLfkGeYN4_mQ",
      "execution_count": 35,
      "outputs": []
    },
    {
      "cell_type": "code",
      "source": [
        "importance_df = pd.DataFrame({'Feature': X_train.columns, 'Importance': feature_importances})\n",
        "\n",
        "# Sort the DataFrame by importances in ascending order\n",
        "importance_df_sorted = importance_df.sort_values(by='Importance', ascending=False)\n",
        "\n",
        "# Print the sorted DataFrame\n",
        "print(importance_df_sorted)"
      ],
      "metadata": {
        "colab": {
          "base_uri": "https://localhost:8080/"
        },
        "id": "oPAfsTdH5Zuy",
        "outputId": "eabc449c-ccba-4646-a9d2-39b65f0ca39c"
      },
      "id": "oPAfsTdH5Zuy",
      "execution_count": 36,
      "outputs": [
        {
          "output_type": "stream",
          "name": "stdout",
          "text": [
            "              Feature  Importance\n",
            "0              amount    0.649066\n",
            "2         rental_rate    0.157775\n",
            "3              length    0.074106\n",
            "4    replacement_cost    0.044075\n",
            "1        release_year    0.030408\n",
            "9   behind_the_scenes    0.009803\n",
            "10     deleted_scenes    0.009211\n",
            "5               NC-17    0.007431\n",
            "7               PG-13    0.007393\n",
            "8                   R    0.005379\n",
            "6                  PG    0.005353\n"
          ]
        }
      ]
    },
    {
      "cell_type": "code",
      "source": [
        "model4 = RandomForestRegressor()\n",
        "model4.fit(X_train, y_train)\n",
        "r_squared_4 = model4.score(X_test, y_test)\n",
        "print('r2', r_squared_3)\n",
        "y_pred4 = model4.predict(X_test)\n",
        "mse4 = mean_squared_error(y_test, y_pred4)\n",
        "print('mse4', mse4)"
      ],
      "metadata": {
        "colab": {
          "base_uri": "https://localhost:8080/"
        },
        "id": "7wvo0OWd5_vC",
        "outputId": "209fff5d-f8a5-4f69-c97f-8b52b8630332"
      },
      "id": "7wvo0OWd5_vC",
      "execution_count": 37,
      "outputs": [
        {
          "output_type": "stream",
          "name": "stdout",
          "text": [
            "r2 0.696193005367677\n",
            "mse4 2.030966112160573\n"
          ]
        }
      ]
    },
    {
      "cell_type": "code",
      "source": [
        "# Get feature importances\n",
        "feature_importances_2 = model4.feature_importances_"
      ],
      "metadata": {
        "id": "pTPRDjN06JDP"
      },
      "id": "pTPRDjN06JDP",
      "execution_count": 38,
      "outputs": []
    },
    {
      "cell_type": "code",
      "source": [
        "importance_df_2 = pd.DataFrame({'Feature': X_train.columns, 'Importance': feature_importances_2})\n",
        "\n",
        "# Sort the DataFrame by importances in ascending order\n",
        "importance_df_sorted = importance_df_2.sort_values(by='Importance', ascending=False)\n",
        "\n",
        "# Print the sorted DataFrame\n",
        "print(importance_df_sorted)"
      ],
      "metadata": {
        "colab": {
          "base_uri": "https://localhost:8080/"
        },
        "id": "2505vWnO6mn9",
        "outputId": "591d88fc-bc1c-4d77-a180-b67f3c107a7a"
      },
      "id": "2505vWnO6mn9",
      "execution_count": 39,
      "outputs": [
        {
          "output_type": "stream",
          "name": "stdout",
          "text": [
            "              Feature  Importance\n",
            "0              amount    0.608354\n",
            "2         rental_rate    0.176139\n",
            "3              length    0.081662\n",
            "4    replacement_cost    0.053731\n",
            "1        release_year    0.032213\n",
            "10     deleted_scenes    0.009727\n",
            "9   behind_the_scenes    0.009546\n",
            "5               NC-17    0.007592\n",
            "7               PG-13    0.007521\n",
            "8                   R    0.006893\n",
            "6                  PG    0.006623\n"
          ]
        }
      ]
    },
    {
      "cell_type": "code",
      "source": [
        "param_grid = {\n",
        "    \"n_estimators\": [20,40,80, 85, 90, 95, 00, 150, 180],\n",
        "\n",
        "}"
      ],
      "metadata": {
        "id": "syjo8_LcCGZX"
      },
      "id": "syjo8_LcCGZX",
      "execution_count": 40,
      "outputs": []
    },
    {
      "cell_type": "code",
      "source": [
        "\n",
        "rf =RandomForestRegressor()\n",
        "random_search = RandomizedSearchCV(rf, param_distributions = param_grid, random_state=9, cv= 5)\n",
        "search = random_search.fit(X_train, y_train)\n",
        "best_params = search.best_params_\n",
        "print(best_params)\n",
        "tuned_model = RandomForestRegressor(**best_params)\n",
        "tuned_model.fit(X_train, y_train)\n",
        "y_pred5=tuned_model.predict(X_test)\n",
        "mse5=mean_squared_error(y_test, y_pred5)\n",
        "print(mse5)"
      ],
      "metadata": {
        "colab": {
          "base_uri": "https://localhost:8080/"
        },
        "id": "8CY_bG_M7JHI",
        "outputId": "d9629c9b-f7f4-40c7-aa97-697ad7fd4351"
      },
      "id": "8CY_bG_M7JHI",
      "execution_count": 41,
      "outputs": [
        {
          "output_type": "stream",
          "name": "stderr",
          "text": [
            "/usr/local/lib/python3.10/dist-packages/sklearn/model_selection/_search.py:305: UserWarning: The total space of parameters 9 is smaller than n_iter=10. Running 9 iterations. For exhaustive searches, use GridSearchCV.\n",
            "  warnings.warn(\n",
            "/usr/local/lib/python3.10/dist-packages/sklearn/model_selection/_validation.py:378: FitFailedWarning: \n",
            "5 fits failed out of a total of 45.\n",
            "The score on these train-test partitions for these parameters will be set to nan.\n",
            "If these failures are not expected, you can try to debug them by setting error_score='raise'.\n",
            "\n",
            "Below are more details about the failures:\n",
            "--------------------------------------------------------------------------------\n",
            "5 fits failed with the following error:\n",
            "Traceback (most recent call last):\n",
            "  File \"/usr/local/lib/python3.10/dist-packages/sklearn/model_selection/_validation.py\", line 686, in _fit_and_score\n",
            "    estimator.fit(X_train, y_train, **fit_params)\n",
            "  File \"/usr/local/lib/python3.10/dist-packages/sklearn/ensemble/_forest.py\", line 340, in fit\n",
            "    self._validate_params()\n",
            "  File \"/usr/local/lib/python3.10/dist-packages/sklearn/base.py\", line 600, in _validate_params\n",
            "    validate_parameter_constraints(\n",
            "  File \"/usr/local/lib/python3.10/dist-packages/sklearn/utils/_param_validation.py\", line 97, in validate_parameter_constraints\n",
            "    raise InvalidParameterError(\n",
            "sklearn.utils._param_validation.InvalidParameterError: The 'n_estimators' parameter of RandomForestRegressor must be an int in the range [1, inf). Got 0 instead.\n",
            "\n",
            "  warnings.warn(some_fits_failed_message, FitFailedWarning)\n",
            "/usr/local/lib/python3.10/dist-packages/sklearn/model_selection/_search.py:952: UserWarning: One or more of the test scores are non-finite: [0.69661861 0.69870446 0.69954766 0.69933409 0.69949624 0.70011607\n",
            "        nan 0.69967477 0.7003806 ]\n",
            "  warnings.warn(\n"
          ]
        },
        {
          "output_type": "stream",
          "name": "stdout",
          "text": [
            "{'n_estimators': 180}\n",
            "2.026670582184777\n"
          ]
        }
      ]
    },
    {
      "cell_type": "code",
      "source": [
        "results =pd.DataFrame({'Model': ['Linear Regression Lasso', 'Linear Regression', 'Decision Tree', 'RandomForest', 'Tuned Random Forest'],\n",
        "                       'MSE': [ mse1, mse2, mse3, mse4, mse5]})\n",
        "best_mse = results['MSE'].min()\n",
        "print(results)"
      ],
      "metadata": {
        "colab": {
          "base_uri": "https://localhost:8080/"
        },
        "id": "4hINIsn17hEc",
        "outputId": "ed8a3320-e7a7-49ab-e6e8-8528e506ae4b"
      },
      "id": "4hINIsn17hEc",
      "execution_count": 43,
      "outputs": [
        {
          "output_type": "stream",
          "name": "stdout",
          "text": [
            "                     Model       MSE\n",
            "0  Linear Regression Lasso  4.842320\n",
            "1        Linear Regression  3.014512\n",
            "2            Decision Tree  2.156899\n",
            "3             RandomForest  2.030966\n",
            "4      Tuned Random Forest  2.026671\n"
          ]
        }
      ]
    },
    {
      "cell_type": "markdown",
      "source": [
        "Let's create a pipeline"
      ],
      "metadata": {
        "id": "KWSPsKw_lgtX"
      },
      "id": "KWSPsKw_lgtX"
    },
    {
      "cell_type": "code",
      "source": [
        "from sklearn.compose import make_column_transformer\n",
        "from sklearn.preprocessing import StandardScaler, OneHotEncoder\n",
        "from sklearn.pipeline import make_pipeline"
      ],
      "metadata": {
        "id": "QHpA6yyBEOH3"
      },
      "id": "QHpA6yyBEOH3",
      "execution_count": 44,
      "outputs": []
    },
    {
      "cell_type": "code",
      "source": [
        "features =['amount','rental_rate', 'length', 'replacement_cost', 'NC-17', 'PG', 'PG-13', 'R', 'deleted_scenes', 'behind_the_scenes']"
      ],
      "metadata": {
        "id": "EktFxycOlvXU"
      },
      "id": "EktFxycOlvXU",
      "execution_count": 45,
      "outputs": []
    },
    {
      "cell_type": "code",
      "source": [
        "numeric_features = ['amount','rental_rate', 'length', 'replacement_cost']"
      ],
      "metadata": {
        "id": "5nsc4MyTmhtc"
      },
      "id": "5nsc4MyTmhtc",
      "execution_count": 46,
      "outputs": []
    },
    {
      "cell_type": "code",
      "source": [
        "cat = ['NC-17', 'PG', 'PG-13', 'R', 'deleted_scenes', 'behind_the_scenes']"
      ],
      "metadata": {
        "id": "tOVheNDOmpEH"
      },
      "id": "tOVheNDOmpEH",
      "execution_count": 47,
      "outputs": []
    },
    {
      "cell_type": "code",
      "source": [
        "X_train2, X_test2, y_train2, y_test2 = train_test_split(df[features], y, test_size=0.30, random_state=1)"
      ],
      "metadata": {
        "id": "-0dF5XsrmEhb"
      },
      "id": "-0dF5XsrmEhb",
      "execution_count": 48,
      "outputs": []
    },
    {
      "cell_type": "code",
      "source": [
        "preprocessor = make_column_transformer(\n",
        "    (StandardScaler(), numeric_features),\n",
        "    (OneHotEncoder(),\n",
        "    cat ))"
      ],
      "metadata": {
        "id": "JbPGOM5rmXAf"
      },
      "id": "JbPGOM5rmXAf",
      "execution_count": 49,
      "outputs": []
    },
    {
      "cell_type": "code",
      "source": [
        "# Define pipelines for different models\n",
        "pipelines = {\n",
        "    'Linear Regression': make_pipeline(preprocessor, LinearRegression()),\n",
        "    'Decision Tree': make_pipeline(preprocessor, DecisionTreeRegressor()),\n",
        "    'Random Forest': make_pipeline(preprocessor, RandomForestRegressor())\n",
        "}"
      ],
      "metadata": {
        "id": "iR6rfzGBEi8u"
      },
      "id": "iR6rfzGBEi8u",
      "execution_count": 50,
      "outputs": []
    },
    {
      "cell_type": "code",
      "source": [
        "for model_name, pipeline in pipelines.items():\n",
        "    pipeline.fit(X_train2, y_train2)\n",
        "\n",
        "    # Make predictions on the test data\n",
        "    predictions = pipeline.predict(X_test2)\n",
        "    MSE = mean_squared_error(y_test2, predictions)\n",
        "    MAE = mean_absolute_error(y_test2, predictions)\n",
        "    r2 = r2_score(y_test2, predictions)\n",
        "    # Now you can use the predictions as needed\n",
        "    # For example, you can print the predictions\n",
        "    print(f\"Predictions for {model_name}: mse {MSE} mae {MAE} r2 {r2}\")"
      ],
      "metadata": {
        "id": "QoehW2nyGJir",
        "colab": {
          "base_uri": "https://localhost:8080/"
        },
        "outputId": "1124c391-d872-4c33-9e90-3fa9c95a60bb"
      },
      "id": "QoehW2nyGJir",
      "execution_count": 51,
      "outputs": [
        {
          "output_type": "stream",
          "name": "stdout",
          "text": [
            "Predictions for Linear Regression: mse 2.928500833575855 mae 1.4119645118360704 r2 0.5739665831441506\n",
            "Predictions for Decision Tree: mse 2.2080038699910385 mae 1.1175851119748115 r2 0.6787832796978936\n",
            "Predictions for Random Forest: mse 2.0529644755282304 mae 1.1049781006433976 r2 0.701338152215925\n"
          ]
        }
      ]
    },
    {
      "cell_type": "code",
      "source": [
        "feature_importances_d = pipelines['Random Forest'].named_steps['randomforestregressor'].feature_importances_\n",
        "feature_importances_d"
      ],
      "metadata": {
        "id": "Yl4fMwwNhuAQ",
        "colab": {
          "base_uri": "https://localhost:8080/"
        },
        "outputId": "70f8d798-9a01-4eb9-cff9-1c89aef1e81d"
      },
      "id": "Yl4fMwwNhuAQ",
      "execution_count": 52,
      "outputs": [
        {
          "output_type": "execute_result",
          "data": {
            "text/plain": [
              "array([0.59058545, 0.18799644, 0.09717098, 0.06255774, 0.00463765,\n",
              "       0.00435496, 0.00393157, 0.00412348, 0.00474477, 0.00477826,\n",
              "       0.00432985, 0.00444258, 0.00667539, 0.00647411, 0.00666896,\n",
              "       0.00652781])"
            ]
          },
          "metadata": {},
          "execution_count": 52
        }
      ]
    },
    {
      "cell_type": "code",
      "source": [
        "# Create a dictionary mapping feature importances to column names\n",
        "feature_importance_map = dict(zip(X_test2.columns, feature_importances_d))\n",
        "feature_importance_map"
      ],
      "metadata": {
        "id": "Tpts2KUZpGBf",
        "colab": {
          "base_uri": "https://localhost:8080/"
        },
        "outputId": "9cb61b23-40e2-4df5-a791-b7debad057df"
      },
      "id": "Tpts2KUZpGBf",
      "execution_count": 53,
      "outputs": [
        {
          "output_type": "execute_result",
          "data": {
            "text/plain": [
              "{'amount': 0.5905854528302588,\n",
              " 'rental_rate': 0.18799644100189933,\n",
              " 'length': 0.09717098467557746,\n",
              " 'replacement_cost': 0.06255773956244727,\n",
              " 'NC-17': 0.004637645863014577,\n",
              " 'PG': 0.004354960817037128,\n",
              " 'PG-13': 0.003931569724015854,\n",
              " 'R': 0.004123484589958561,\n",
              " 'deleted_scenes': 0.004744765127403834,\n",
              " 'behind_the_scenes': 0.0047782642445148025}"
            ]
          },
          "metadata": {},
          "execution_count": 53
        }
      ]
    },
    {
      "cell_type": "markdown",
      "source": [
        "The ensemble model, Random Forest, outperformed both Linear Regression and Decision Tree Regressor models. The Random Forest algorithm leverages bootstrap sampling with replacement and aggregates predictions using mean values, leading to improved predictive performance.\n",
        "\n",
        "Given the non-linear nature of the data, the Linear Regression model performed poorly. Additionally, some features exhibited multicollinearity, such as 'amount' and 'amount squared', where one feature could be derived from another. To address this, one of the correlated features was dropped from the model to prevent redundancy and improve interpretability.\n",
        "\n",
        "Fortunately, there were no missing values in the dataset, simplifying the modeling process. To efficiently tune the Random Forest model, Randomized Search was employed, allowing for rapid hyperparameter optimization.\n",
        "\n",
        "After tuning, the Random Forest model identified and utilized the most important features for prediction. These features were instrumental in capturing the underlying patterns in the data, leading to enhanced predictive accuracy.\n",
        "Another parameter of Random Forest can be tuned as min_samples_split, min_samples_leaf, max_features\n"
      ],
      "metadata": {
        "id": "g0RaCx9opiWa"
      },
      "id": "g0RaCx9opiWa"
    }
  ],
  "metadata": {
    "colab": {
      "provenance": [],
      "include_colab_link": true
    },
    "kernelspec": {
      "display_name": "Python 3 (ipykernel)",
      "language": "python",
      "name": "python3"
    },
    "language_info": {
      "codemirror_mode": {
        "name": "ipython",
        "version": 3
      },
      "file_extension": ".py",
      "mimetype": "text/x-python",
      "name": "python",
      "nbconvert_exporter": "python",
      "pygments_lexer": "ipython3",
      "version": "3.8.10"
    }
  },
  "nbformat": 4,
  "nbformat_minor": 5
}